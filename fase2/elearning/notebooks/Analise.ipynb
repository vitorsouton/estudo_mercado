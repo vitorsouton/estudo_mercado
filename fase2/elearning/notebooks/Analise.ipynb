{
 "cells": [
  {
   "cell_type": "code",
   "execution_count": 1,
   "id": "3e775604",
   "metadata": {},
   "outputs": [],
   "source": [
    "import pandas as pd\n",
    "import seaborn as sns\n",
    "import warnings; warnings.filterwarnings('ignore')\n",
    "import matplotlib.pyplot as plt"
   ]
  },
  {
   "cell_type": "code",
   "execution_count": 2,
   "id": "9e7f0a45",
   "metadata": {},
   "outputs": [
    {
     "data": {
      "text/html": [
       "<div>\n",
       "<style scoped>\n",
       "    .dataframe tbody tr th:only-of-type {\n",
       "        vertical-align: middle;\n",
       "    }\n",
       "\n",
       "    .dataframe tbody tr th {\n",
       "        vertical-align: top;\n",
       "    }\n",
       "\n",
       "    .dataframe thead th {\n",
       "        text-align: right;\n",
       "    }\n",
       "</style>\n",
       "<table border=\"1\" class=\"dataframe\">\n",
       "  <thead>\n",
       "    <tr style=\"text-align: right;\">\n",
       "      <th></th>\n",
       "      <th>company_name</th>\n",
       "      <th>brazilian_visitors</th>\n",
       "      <th>hq_country</th>\n",
       "      <th>bounce_rate</th>\n",
       "      <th>visit_duration</th>\n",
       "      <th>male</th>\n",
       "      <th>female</th>\n",
       "      <th>18-24</th>\n",
       "      <th>25-34</th>\n",
       "      <th>35-44</th>\n",
       "      <th>45-54</th>\n",
       "      <th>55-64</th>\n",
       "      <th>65+</th>\n",
       "    </tr>\n",
       "  </thead>\n",
       "  <tbody>\n",
       "    <tr>\n",
       "      <th>0</th>\n",
       "      <td>icould.com</td>\n",
       "      <td>-1</td>\n",
       "      <td>United Kingdom</td>\n",
       "      <td>0.336</td>\n",
       "      <td>1.0</td>\n",
       "      <td>0.537</td>\n",
       "      <td>0.463</td>\n",
       "      <td>0.225</td>\n",
       "      <td>0.310</td>\n",
       "      <td>0.197</td>\n",
       "      <td>0.133</td>\n",
       "      <td>0.082</td>\n",
       "      <td>0.052</td>\n",
       "    </tr>\n",
       "    <tr>\n",
       "      <th>1</th>\n",
       "      <td>engineeringmanagement.info</td>\n",
       "      <td>-1</td>\n",
       "      <td>United States</td>\n",
       "      <td>0.497</td>\n",
       "      <td>2.0</td>\n",
       "      <td>0.631</td>\n",
       "      <td>0.369</td>\n",
       "      <td>0.254</td>\n",
       "      <td>0.354</td>\n",
       "      <td>0.177</td>\n",
       "      <td>0.104</td>\n",
       "      <td>0.068</td>\n",
       "      <td>0.042</td>\n",
       "    </tr>\n",
       "    <tr>\n",
       "      <th>2</th>\n",
       "      <td>babbel.com</td>\n",
       "      <td>-1</td>\n",
       "      <td>Germany</td>\n",
       "      <td>0.539</td>\n",
       "      <td>3.0</td>\n",
       "      <td>0.513</td>\n",
       "      <td>0.487</td>\n",
       "      <td>0.239</td>\n",
       "      <td>0.288</td>\n",
       "      <td>0.178</td>\n",
       "      <td>0.132</td>\n",
       "      <td>0.094</td>\n",
       "      <td>0.068</td>\n",
       "    </tr>\n",
       "    <tr>\n",
       "      <th>3</th>\n",
       "      <td>management-academy.us</td>\n",
       "      <td>-1</td>\n",
       "      <td>- -</td>\n",
       "      <td>NaN</td>\n",
       "      <td>NaN</td>\n",
       "      <td>NaN</td>\n",
       "      <td>NaN</td>\n",
       "      <td>NaN</td>\n",
       "      <td>NaN</td>\n",
       "      <td>NaN</td>\n",
       "      <td>NaN</td>\n",
       "      <td>NaN</td>\n",
       "      <td>NaN</td>\n",
       "    </tr>\n",
       "    <tr>\n",
       "      <th>4</th>\n",
       "      <td>w3schools.com</td>\n",
       "      <td>1878030</td>\n",
       "      <td>Norway</td>\n",
       "      <td>0.520</td>\n",
       "      <td>5.0</td>\n",
       "      <td>0.748</td>\n",
       "      <td>0.252</td>\n",
       "      <td>0.277</td>\n",
       "      <td>0.375</td>\n",
       "      <td>0.186</td>\n",
       "      <td>0.089</td>\n",
       "      <td>0.046</td>\n",
       "      <td>0.026</td>\n",
       "    </tr>\n",
       "  </tbody>\n",
       "</table>\n",
       "</div>"
      ],
      "text/plain": [
       "                 company_name  brazilian_visitors      hq_country  \\\n",
       "0                  icould.com                  -1  United Kingdom   \n",
       "1  engineeringmanagement.info                  -1   United States   \n",
       "2                  babbel.com                  -1         Germany   \n",
       "3       management-academy.us                  -1             - -   \n",
       "4               w3schools.com             1878030          Norway   \n",
       "\n",
       "   bounce_rate  visit_duration   male  female  18-24  25-34  35-44  45-54  \\\n",
       "0        0.336             1.0  0.537   0.463  0.225  0.310  0.197  0.133   \n",
       "1        0.497             2.0  0.631   0.369  0.254  0.354  0.177  0.104   \n",
       "2        0.539             3.0  0.513   0.487  0.239  0.288  0.178  0.132   \n",
       "3          NaN             NaN    NaN     NaN    NaN    NaN    NaN    NaN   \n",
       "4        0.520             5.0  0.748   0.252  0.277  0.375  0.186  0.089   \n",
       "\n",
       "   55-64    65+  \n",
       "0  0.082  0.052  \n",
       "1  0.068  0.042  \n",
       "2  0.094  0.068  \n",
       "3    NaN    NaN  \n",
       "4  0.046  0.026  "
      ]
     },
     "execution_count": 2,
     "metadata": {},
     "output_type": "execute_result"
    }
   ],
   "source": [
    "df = pd.read_csv('../data/elearning_info.csv', index_col=0)\n",
    "df.head()"
   ]
  },
  {
   "cell_type": "code",
   "execution_count": 3,
   "id": "11aa3e3e",
   "metadata": {},
   "outputs": [],
   "source": [
    "df.dropna(inplace=True)"
   ]
  },
  {
   "cell_type": "code",
   "execution_count": 4,
   "id": "780584eb",
   "metadata": {},
   "outputs": [
    {
     "data": {
      "text/plain": [
       "(86, 13)"
      ]
     },
     "execution_count": 4,
     "metadata": {},
     "output_type": "execute_result"
    }
   ],
   "source": [
    "df.shape"
   ]
  },
  {
   "cell_type": "code",
   "execution_count": 5,
   "id": "74957570",
   "metadata": {},
   "outputs": [
    {
     "data": {
      "text/plain": [
       "(17, 13)"
      ]
     },
     "execution_count": 5,
     "metadata": {},
     "output_type": "execute_result"
    }
   ],
   "source": [
    "empresas_relevantes = df[df.brazilian_visitors != -1]\n",
    "empresas_relevantes.shape"
   ]
  },
  {
   "cell_type": "code",
   "execution_count": 6,
   "id": "6db60c0b",
   "metadata": {},
   "outputs": [
    {
     "data": {
      "text/html": [
       "<div>\n",
       "<style scoped>\n",
       "    .dataframe tbody tr th:only-of-type {\n",
       "        vertical-align: middle;\n",
       "    }\n",
       "\n",
       "    .dataframe tbody tr th {\n",
       "        vertical-align: top;\n",
       "    }\n",
       "\n",
       "    .dataframe thead th {\n",
       "        text-align: right;\n",
       "    }\n",
       "</style>\n",
       "<table border=\"1\" class=\"dataframe\">\n",
       "  <thead>\n",
       "    <tr style=\"text-align: right;\">\n",
       "      <th></th>\n",
       "      <th>company_name</th>\n",
       "      <th>brazilian_visitors</th>\n",
       "      <th>hq_country</th>\n",
       "      <th>bounce_rate</th>\n",
       "      <th>visit_duration</th>\n",
       "      <th>male</th>\n",
       "      <th>female</th>\n",
       "      <th>18-24</th>\n",
       "      <th>25-34</th>\n",
       "      <th>35-44</th>\n",
       "      <th>45-54</th>\n",
       "      <th>55-64</th>\n",
       "      <th>65+</th>\n",
       "    </tr>\n",
       "  </thead>\n",
       "  <tbody>\n",
       "    <tr>\n",
       "      <th>4</th>\n",
       "      <td>w3schools.com</td>\n",
       "      <td>1878030</td>\n",
       "      <td>Norway</td>\n",
       "      <td>0.520</td>\n",
       "      <td>5.0</td>\n",
       "      <td>0.748</td>\n",
       "      <td>0.252</td>\n",
       "      <td>0.277</td>\n",
       "      <td>0.375</td>\n",
       "      <td>0.186</td>\n",
       "      <td>0.089</td>\n",
       "      <td>0.046</td>\n",
       "      <td>0.026</td>\n",
       "    </tr>\n",
       "    <tr>\n",
       "      <th>26</th>\n",
       "      <td>busuu.com</td>\n",
       "      <td>250240</td>\n",
       "      <td>United Kingdom</td>\n",
       "      <td>0.436</td>\n",
       "      <td>8.0</td>\n",
       "      <td>0.522</td>\n",
       "      <td>0.478</td>\n",
       "      <td>0.305</td>\n",
       "      <td>0.324</td>\n",
       "      <td>0.170</td>\n",
       "      <td>0.101</td>\n",
       "      <td>0.063</td>\n",
       "      <td>0.037</td>\n",
       "    </tr>\n",
       "    <tr>\n",
       "      <th>27</th>\n",
       "      <td>vitalsource.com</td>\n",
       "      <td>227500</td>\n",
       "      <td>United States</td>\n",
       "      <td>0.227</td>\n",
       "      <td>14.0</td>\n",
       "      <td>0.438</td>\n",
       "      <td>0.562</td>\n",
       "      <td>0.404</td>\n",
       "      <td>0.244</td>\n",
       "      <td>0.159</td>\n",
       "      <td>0.104</td>\n",
       "      <td>0.060</td>\n",
       "      <td>0.029</td>\n",
       "    </tr>\n",
       "    <tr>\n",
       "      <th>44</th>\n",
       "      <td>freecodecamp.org</td>\n",
       "      <td>782040</td>\n",
       "      <td>United States</td>\n",
       "      <td>0.649</td>\n",
       "      <td>5.0</td>\n",
       "      <td>0.758</td>\n",
       "      <td>0.242</td>\n",
       "      <td>0.268</td>\n",
       "      <td>0.379</td>\n",
       "      <td>0.186</td>\n",
       "      <td>0.090</td>\n",
       "      <td>0.049</td>\n",
       "      <td>0.028</td>\n",
       "    </tr>\n",
       "    <tr>\n",
       "      <th>46</th>\n",
       "      <td>uninove.br</td>\n",
       "      <td>2474500</td>\n",
       "      <td>Brazil</td>\n",
       "      <td>0.274</td>\n",
       "      <td>5.0</td>\n",
       "      <td>0.397</td>\n",
       "      <td>0.603</td>\n",
       "      <td>0.244</td>\n",
       "      <td>0.365</td>\n",
       "      <td>0.196</td>\n",
       "      <td>0.104</td>\n",
       "      <td>0.062</td>\n",
       "      <td>0.029</td>\n",
       "    </tr>\n",
       "    <tr>\n",
       "      <th>48</th>\n",
       "      <td>gofluent.com</td>\n",
       "      <td>49040</td>\n",
       "      <td>Switzerland</td>\n",
       "      <td>0.337</td>\n",
       "      <td>10.0</td>\n",
       "      <td>0.544</td>\n",
       "      <td>0.456</td>\n",
       "      <td>0.237</td>\n",
       "      <td>0.329</td>\n",
       "      <td>0.195</td>\n",
       "      <td>0.120</td>\n",
       "      <td>0.075</td>\n",
       "      <td>0.043</td>\n",
       "    </tr>\n",
       "    <tr>\n",
       "      <th>53</th>\n",
       "      <td>datascienceacademy.com.br</td>\n",
       "      <td>395136</td>\n",
       "      <td>Brazil</td>\n",
       "      <td>0.391</td>\n",
       "      <td>14.0</td>\n",
       "      <td>0.575</td>\n",
       "      <td>0.425</td>\n",
       "      <td>0.268</td>\n",
       "      <td>0.417</td>\n",
       "      <td>0.173</td>\n",
       "      <td>0.081</td>\n",
       "      <td>0.042</td>\n",
       "      <td>0.018</td>\n",
       "    </tr>\n",
       "    <tr>\n",
       "      <th>56</th>\n",
       "      <td>unipar.br</td>\n",
       "      <td>311619</td>\n",
       "      <td>Brazil</td>\n",
       "      <td>0.339</td>\n",
       "      <td>7.0</td>\n",
       "      <td>0.396</td>\n",
       "      <td>0.604</td>\n",
       "      <td>0.319</td>\n",
       "      <td>0.339</td>\n",
       "      <td>0.169</td>\n",
       "      <td>0.094</td>\n",
       "      <td>0.056</td>\n",
       "      <td>0.023</td>\n",
       "    </tr>\n",
       "    <tr>\n",
       "      <th>57</th>\n",
       "      <td>coursera.org</td>\n",
       "      <td>1756040</td>\n",
       "      <td>United States</td>\n",
       "      <td>0.360</td>\n",
       "      <td>11.0</td>\n",
       "      <td>0.557</td>\n",
       "      <td>0.443</td>\n",
       "      <td>0.286</td>\n",
       "      <td>0.353</td>\n",
       "      <td>0.177</td>\n",
       "      <td>0.098</td>\n",
       "      <td>0.055</td>\n",
       "      <td>0.032</td>\n",
       "    </tr>\n",
       "    <tr>\n",
       "      <th>60</th>\n",
       "      <td>openenglish.com</td>\n",
       "      <td>554600</td>\n",
       "      <td>United States</td>\n",
       "      <td>0.439</td>\n",
       "      <td>9.0</td>\n",
       "      <td>0.467</td>\n",
       "      <td>0.533</td>\n",
       "      <td>0.269</td>\n",
       "      <td>0.347</td>\n",
       "      <td>0.184</td>\n",
       "      <td>0.102</td>\n",
       "      <td>0.064</td>\n",
       "      <td>0.033</td>\n",
       "    </tr>\n",
       "    <tr>\n",
       "      <th>62</th>\n",
       "      <td>udemy.com</td>\n",
       "      <td>6604220</td>\n",
       "      <td>United States</td>\n",
       "      <td>0.369</td>\n",
       "      <td>11.0</td>\n",
       "      <td>0.664</td>\n",
       "      <td>0.335</td>\n",
       "      <td>0.271</td>\n",
       "      <td>0.367</td>\n",
       "      <td>0.183</td>\n",
       "      <td>0.096</td>\n",
       "      <td>0.053</td>\n",
       "      <td>0.030</td>\n",
       "    </tr>\n",
       "    <tr>\n",
       "      <th>63</th>\n",
       "      <td>beacademy.com.br</td>\n",
       "      <td>10012</td>\n",
       "      <td>Brazil</td>\n",
       "      <td>0.640</td>\n",
       "      <td>2.0</td>\n",
       "      <td>0.519</td>\n",
       "      <td>0.481</td>\n",
       "      <td>0.222</td>\n",
       "      <td>0.356</td>\n",
       "      <td>0.201</td>\n",
       "      <td>0.110</td>\n",
       "      <td>0.080</td>\n",
       "      <td>0.031</td>\n",
       "    </tr>\n",
       "    <tr>\n",
       "      <th>71</th>\n",
       "      <td>whitehatjr.com</td>\n",
       "      <td>5890</td>\n",
       "      <td>India</td>\n",
       "      <td>0.510</td>\n",
       "      <td>6.0</td>\n",
       "      <td>0.517</td>\n",
       "      <td>0.483</td>\n",
       "      <td>0.381</td>\n",
       "      <td>0.285</td>\n",
       "      <td>0.172</td>\n",
       "      <td>0.080</td>\n",
       "      <td>0.042</td>\n",
       "      <td>0.039</td>\n",
       "    </tr>\n",
       "    <tr>\n",
       "      <th>83</th>\n",
       "      <td>institutosc.com.br</td>\n",
       "      <td>39634</td>\n",
       "      <td>Brazil</td>\n",
       "      <td>0.718</td>\n",
       "      <td>6.0</td>\n",
       "      <td>0.412</td>\n",
       "      <td>0.588</td>\n",
       "      <td>0.309</td>\n",
       "      <td>0.342</td>\n",
       "      <td>0.169</td>\n",
       "      <td>0.100</td>\n",
       "      <td>0.056</td>\n",
       "      <td>0.024</td>\n",
       "    </tr>\n",
       "    <tr>\n",
       "      <th>87</th>\n",
       "      <td>ethicalhackersacademy.com</td>\n",
       "      <td>6584</td>\n",
       "      <td>India</td>\n",
       "      <td>0.692</td>\n",
       "      <td>2.0</td>\n",
       "      <td>0.605</td>\n",
       "      <td>0.395</td>\n",
       "      <td>0.245</td>\n",
       "      <td>0.321</td>\n",
       "      <td>0.193</td>\n",
       "      <td>0.117</td>\n",
       "      <td>0.076</td>\n",
       "      <td>0.047</td>\n",
       "    </tr>\n",
       "    <tr>\n",
       "      <th>89</th>\n",
       "      <td>dreambox.com</td>\n",
       "      <td>5980</td>\n",
       "      <td>United States</td>\n",
       "      <td>0.578</td>\n",
       "      <td>4.0</td>\n",
       "      <td>0.342</td>\n",
       "      <td>0.658</td>\n",
       "      <td>0.245</td>\n",
       "      <td>0.249</td>\n",
       "      <td>0.217</td>\n",
       "      <td>0.139</td>\n",
       "      <td>0.093</td>\n",
       "      <td>0.056</td>\n",
       "    </tr>\n",
       "    <tr>\n",
       "      <th>90</th>\n",
       "      <td>scaler.com</td>\n",
       "      <td>18480</td>\n",
       "      <td>India</td>\n",
       "      <td>0.412</td>\n",
       "      <td>6.0</td>\n",
       "      <td>0.622</td>\n",
       "      <td>0.378</td>\n",
       "      <td>0.352</td>\n",
       "      <td>0.354</td>\n",
       "      <td>0.147</td>\n",
       "      <td>0.074</td>\n",
       "      <td>0.043</td>\n",
       "      <td>0.029</td>\n",
       "    </tr>\n",
       "  </tbody>\n",
       "</table>\n",
       "</div>"
      ],
      "text/plain": [
       "                 company_name  brazilian_visitors      hq_country  \\\n",
       "4               w3schools.com             1878030          Norway   \n",
       "26                  busuu.com              250240  United Kingdom   \n",
       "27            vitalsource.com              227500   United States   \n",
       "44           freecodecamp.org              782040   United States   \n",
       "46                 uninove.br             2474500          Brazil   \n",
       "48               gofluent.com               49040     Switzerland   \n",
       "53  datascienceacademy.com.br              395136          Brazil   \n",
       "56                  unipar.br              311619          Brazil   \n",
       "57               coursera.org             1756040   United States   \n",
       "60            openenglish.com              554600   United States   \n",
       "62                  udemy.com             6604220   United States   \n",
       "63           beacademy.com.br               10012          Brazil   \n",
       "71             whitehatjr.com                5890           India   \n",
       "83         institutosc.com.br               39634          Brazil   \n",
       "87  ethicalhackersacademy.com                6584           India   \n",
       "89               dreambox.com                5980   United States   \n",
       "90                 scaler.com               18480           India   \n",
       "\n",
       "    bounce_rate  visit_duration   male  female  18-24  25-34  35-44  45-54  \\\n",
       "4         0.520             5.0  0.748   0.252  0.277  0.375  0.186  0.089   \n",
       "26        0.436             8.0  0.522   0.478  0.305  0.324  0.170  0.101   \n",
       "27        0.227            14.0  0.438   0.562  0.404  0.244  0.159  0.104   \n",
       "44        0.649             5.0  0.758   0.242  0.268  0.379  0.186  0.090   \n",
       "46        0.274             5.0  0.397   0.603  0.244  0.365  0.196  0.104   \n",
       "48        0.337            10.0  0.544   0.456  0.237  0.329  0.195  0.120   \n",
       "53        0.391            14.0  0.575   0.425  0.268  0.417  0.173  0.081   \n",
       "56        0.339             7.0  0.396   0.604  0.319  0.339  0.169  0.094   \n",
       "57        0.360            11.0  0.557   0.443  0.286  0.353  0.177  0.098   \n",
       "60        0.439             9.0  0.467   0.533  0.269  0.347  0.184  0.102   \n",
       "62        0.369            11.0  0.664   0.335  0.271  0.367  0.183  0.096   \n",
       "63        0.640             2.0  0.519   0.481  0.222  0.356  0.201  0.110   \n",
       "71        0.510             6.0  0.517   0.483  0.381  0.285  0.172  0.080   \n",
       "83        0.718             6.0  0.412   0.588  0.309  0.342  0.169  0.100   \n",
       "87        0.692             2.0  0.605   0.395  0.245  0.321  0.193  0.117   \n",
       "89        0.578             4.0  0.342   0.658  0.245  0.249  0.217  0.139   \n",
       "90        0.412             6.0  0.622   0.378  0.352  0.354  0.147  0.074   \n",
       "\n",
       "    55-64    65+  \n",
       "4   0.046  0.026  \n",
       "26  0.063  0.037  \n",
       "27  0.060  0.029  \n",
       "44  0.049  0.028  \n",
       "46  0.062  0.029  \n",
       "48  0.075  0.043  \n",
       "53  0.042  0.018  \n",
       "56  0.056  0.023  \n",
       "57  0.055  0.032  \n",
       "60  0.064  0.033  \n",
       "62  0.053  0.030  \n",
       "63  0.080  0.031  \n",
       "71  0.042  0.039  \n",
       "83  0.056  0.024  \n",
       "87  0.076  0.047  \n",
       "89  0.093  0.056  \n",
       "90  0.043  0.029  "
      ]
     },
     "execution_count": 6,
     "metadata": {},
     "output_type": "execute_result"
    }
   ],
   "source": [
    "empresas_relevantes"
   ]
  },
  {
   "cell_type": "code",
   "execution_count": 16,
   "id": "099df294",
   "metadata": {},
   "outputs": [],
   "source": [
    "empresas_estrangeiras = empresas_relevantes[empresas_relevantes.hq_country != 'Brazil']\n",
    "empresas_estrangeiras.reset_index(inplace=True)"
   ]
  },
  {
   "cell_type": "markdown",
   "id": "06a8bf48",
   "metadata": {},
   "source": [
    "# Analise de trafego"
   ]
  },
  {
   "cell_type": "markdown",
   "id": "2cf735e5",
   "metadata": {},
   "source": [
    "### Total de visitas mensais por brasileiros"
   ]
  },
  {
   "cell_type": "code",
   "execution_count": 17,
   "id": "36f661c9",
   "metadata": {},
   "outputs": [
    {
     "data": {
      "text/plain": [
       "12138644"
      ]
     },
     "execution_count": 17,
     "metadata": {},
     "output_type": "execute_result"
    }
   ],
   "source": [
    "empresas_estrangeiras.brazilian_visitors.sum()"
   ]
  },
  {
   "cell_type": "markdown",
   "id": "f0e5f46b",
   "metadata": {},
   "source": [
    "### Bounce rate total"
   ]
  },
  {
   "cell_type": "code",
   "execution_count": 18,
   "id": "76a6b122",
   "metadata": {},
   "outputs": [
    {
     "data": {
      "text/plain": [
       "46.075"
      ]
     },
     "execution_count": 18,
     "metadata": {},
     "output_type": "execute_result"
    }
   ],
   "source": [
    "empresas_estrangeiras.bounce_rate.mean() * 100"
   ]
  },
  {
   "cell_type": "markdown",
   "id": "0f10115f",
   "metadata": {},
   "source": [
    "### Duração média da visita"
   ]
  },
  {
   "cell_type": "code",
   "execution_count": 19,
   "id": "cea2c8b2",
   "metadata": {},
   "outputs": [
    {
     "data": {
      "text/plain": [
       "7.583333333333333"
      ]
     },
     "execution_count": 19,
     "metadata": {},
     "output_type": "execute_result"
    }
   ],
   "source": [
    "empresas_estrangeiras.visit_duration.mean()"
   ]
  },
  {
   "cell_type": "markdown",
   "id": "f4190c40",
   "metadata": {},
   "source": [
    "# País sede da empresa"
   ]
  },
  {
   "cell_type": "code",
   "execution_count": 20,
   "id": "416aeacb",
   "metadata": {},
   "outputs": [
    {
     "data": {
      "image/png": "[encoded data removed]",
      "text/plain": [
       "<Figure size 2100x1300 with 1 Axes>"
      ]
     },
     "metadata": {},
     "output_type": "display_data"
    }
   ],
   "source": [
    "paises = empresas_estrangeiras.hq_country.value_counts()\n",
    "\n",
    "plt.rcParams.update({'font.size': 21})\n",
    "plt.figure(figsize=(21, 13))\n",
    "sns.barplot(paises.keys(), paises.values)\n",
    "plt.tight_layout();"
   ]
  },
  {
   "cell_type": "markdown",
   "id": "dd2c04cb",
   "metadata": {},
   "source": [
    "# Demografia"
   ]
  },
  {
   "cell_type": "markdown",
   "id": "bb773b8f",
   "metadata": {},
   "source": [
    "### Sexo"
   ]
  },
  {
   "cell_type": "code",
   "execution_count": 35,
   "id": "cc34351f",
   "metadata": {},
   "outputs": [
    {
     "data": {
      "image/png": "[encoded data removed]",
      "text/plain": [
       "<Figure size 2100x1300 with 1 Axes>"
      ]
     },
     "metadata": {},
     "output_type": "display_data"
    }
   ],
   "source": [
    "sexo = empresas_estrangeiras[['male', 'female']].mean()\n",
    "\n",
    "plt.rcParams.update({'font.size': 23})\n",
    "plt.figure(figsize=(21, 13))\n",
    "sns.barplot(x=sexo.keys(), y=sexo.values)\n",
    "plt.tight_layout();"
   ]
  },
  {
   "cell_type": "markdown",
   "id": "1d3ed369",
   "metadata": {},
   "source": [
    "### Idade"
   ]
  },
  {
   "cell_type": "code",
   "execution_count": 42,
   "id": "436d9d85",
   "metadata": {},
   "outputs": [
    {
     "data": {
      "image/png": "[encoded data removed]",
      "text/plain": [
       "<Figure size 2100x1300 with 1 Axes>"
      ]
     },
     "metadata": {},
     "output_type": "display_data"
    }
   ],
   "source": [
    "idade = empresas_estrangeiras[['18-24', '25-34', '35-44', '45-54', '55-64', '65+']]\n",
    "idade = idade.mean()\n",
    "\n",
    "plt.rcParams.update({'font.size': 23})\n",
    "plt.figure(figsize=(21, 13))\n",
    "sns.barplot(x=idade.keys(), y=idade.values)\n",
    "plt.tight_layout();"
   ]
  }
 ],
 "metadata": {
  "kernelspec": {
   "display_name": "Python 3 (ipykernel)",
   "language": "python",
   "name": "python3"
  },
  "language_info": {
   "codemirror_mode": {
    "name": "ipython",
    "version": 3
   },
   "file_extension": ".py",
   "mimetype": "text/x-python",
   "name": "python",
   "nbconvert_exporter": "python",
   "pygments_lexer": "ipython3",
   "version": "3.10.6"
  }
 },
 "nbformat": 4,
 "nbformat_minor": 5
}
