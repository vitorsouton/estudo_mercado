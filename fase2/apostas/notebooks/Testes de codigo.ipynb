{
 "cells": [
  {
   "cell_type": "markdown",
   "id": "c2861b34",
   "metadata": {},
   "source": [
    "# Desenvolver o codigo para automatizar a busca no Rec Aq\n",
    "\n",
    "* https://www.reclameaqui.com.br/empresa/bet365/lista-reclamacoes/?pagina=1"
   ]
  },
  {
   "cell_type": "code",
   "execution_count": 2,
   "id": "670fb8b8",
   "metadata": {},
   "outputs": [],
   "source": [
    "from bs4 import BeautifulSoup\n",
    "from unidecode import unidecode\n",
    "\n",
    "import pandas as pd\n",
    "import numpy as np\n",
    "\n",
    "import string\n",
    "import requests"
   ]
  },
  {
   "cell_type": "code",
   "execution_count": 7,
   "id": "4f4a69ba",
   "metadata": {},
   "outputs": [],
   "source": [
    "HEADERS = {'User-Agent': 'Mozilla/5.0 (Windows NT 6.1; WOW64; rv:50.0) Gecko/20100101 Firefox/50.0'}\n",
    "\n",
    "def get_complains(company_id, company_name):\n",
    "\n",
    "    complains = {'company_name': [], 'description': [], 'href': [], 'full_complain': []}\n",
    "    \n",
    "    for n in range(0, 1001, 10):\n",
    "        url = f'https://iosearch.reclameaqui.com.br/raichu-io-site-search-v1/query/companyComplains/10/{n}'\n",
    "        res = requests.get(url, params={'company': company_id}, headers=HEADERS).json()\n",
    "\n",
    "        for x in range(10):\n",
    "            data = res['complainResult']['complains']['data']\n",
    "            \n",
    "            description = data[x]['description']\n",
    "            soup = BeautifulSoup(description, 'lxml').text\n",
    "            complains['description'].append(soup)\n",
    "            \n",
    "            id_ = data[x]['id']\n",
    "            title = data[x]['title']\n",
    "            clean_title = title.translate(str.maketrans('', '', string.punctuation))\n",
    "            href = clean_title.lower().strip() + '_' + id_\n",
    "            href = unidecode(href.replace(' ', '-'))\n",
    "            complains['href'].append(href)\n",
    "            \n",
    "            complains['company_name'].append(company_name)\n",
    "            \n",
    "            complains['full_complain'].append('')\n",
    "            \n",
    "    df = pd.DataFrame(complains)\n",
    "    \n",
    "    return df"
   ]
  },
  {
   "cell_type": "code",
   "execution_count": 8,
   "id": "9f047a07",
   "metadata": {
    "scrolled": false
   },
   "outputs": [
    {
     "name": "stderr",
     "output_type": "stream",
     "text": [
      "/home/vitor/.pyenv/versions/3.10.6/envs/estudo/lib/python3.10/site-packages/bs4/__init__.py:435: MarkupResemblesLocatorWarning: The input looks more like a filename than markup. You may want to open this file and pass the filehandle into Beautiful Soup.\n",
      "  warnings.warn(\n"
     ]
    },
    {
     "name": "stdout",
     "output_type": "stream",
     "text": [
      "CPU times: user 7.95 s, sys: 72.1 ms, total: 8.03 s\n",
      "Wall time: 10.8 s\n"
     ]
    },
    {
     "data": {
      "text/html": [
       "<div>\n",
       "<style scoped>\n",
       "    .dataframe tbody tr th:only-of-type {\n",
       "        vertical-align: middle;\n",
       "    }\n",
       "\n",
       "    .dataframe tbody tr th {\n",
       "        vertical-align: top;\n",
       "    }\n",
       "\n",
       "    .dataframe thead th {\n",
       "        text-align: right;\n",
       "    }\n",
       "</style>\n",
       "<table border=\"1\" class=\"dataframe\">\n",
       "  <thead>\n",
       "    <tr style=\"text-align: right;\">\n",
       "      <th></th>\n",
       "      <th>company_name</th>\n",
       "      <th>description</th>\n",
       "      <th>href</th>\n",
       "      <th>full_complain</th>\n",
       "    </tr>\n",
       "  </thead>\n",
       "  <tbody>\n",
       "    <tr>\n",
       "      <th>0</th>\n",
       "      <td>bet365</td>\n",
       "      <td>Eu criei a conta num dia , usei , depositei di...</td>\n",
       "      <td>exclusao-da-conta-do-nada_Dud9R8-AUMYcE5wj</td>\n",
       "      <td></td>\n",
       "    </tr>\n",
       "    <tr>\n",
       "      <th>1</th>\n",
       "      <td>bet365</td>\n",
       "      <td>Fiz o cadastro na bet365 coloquei 100 reais e ...</td>\n",
       "      <td>quero-uma-solucao-o-mais-rapid9-possivel_zsCsP...</td>\n",
       "      <td></td>\n",
       "    </tr>\n",
       "    <tr>\n",
       "      <th>2</th>\n",
       "      <td>bet365</td>\n",
       "      <td>Possuo um cadastro com saldo no site, não poss...</td>\n",
       "      <td>exclusao-de-cadastro_GvIGnA-pGALXPADB</td>\n",
       "      <td></td>\n",
       "    </tr>\n",
       "    <tr>\n",
       "      <th>3</th>\n",
       "      <td>bet365</td>\n",
       "      <td>Bom dia quero fazer aposta  porém não validara...</td>\n",
       "      <td>validade-de-indentidade_9Aa2wovUP31RRsuK</td>\n",
       "      <td></td>\n",
       "    </tr>\n",
       "    <tr>\n",
       "      <th>4</th>\n",
       "      <td>bet365</td>\n",
       "      <td>Eu fiz um depósito  de 30 reais na bet 365 e c...</td>\n",
       "      <td>a-bet-tirou-meu-dinheiro_DGK8-zT7j9HCgFW-</td>\n",
       "      <td></td>\n",
       "    </tr>\n",
       "  </tbody>\n",
       "</table>\n",
       "</div>"
      ],
      "text/plain": [
       "  company_name                                        description  \\\n",
       "0       bet365  Eu criei a conta num dia , usei , depositei di...   \n",
       "1       bet365  Fiz o cadastro na bet365 coloquei 100 reais e ...   \n",
       "2       bet365  Possuo um cadastro com saldo no site, não poss...   \n",
       "3       bet365  Bom dia quero fazer aposta  porém não validara...   \n",
       "4       bet365  Eu fiz um depósito  de 30 reais na bet 365 e c...   \n",
       "\n",
       "                                                href full_complain  \n",
       "0         exclusao-da-conta-do-nada_Dud9R8-AUMYcE5wj                \n",
       "1  quero-uma-solucao-o-mais-rapid9-possivel_zsCsP...                \n",
       "2              exclusao-de-cadastro_GvIGnA-pGALXPADB                \n",
       "3           validade-de-indentidade_9Aa2wovUP31RRsuK                \n",
       "4          a-bet-tirou-meu-dinheiro_DGK8-zT7j9HCgFW-                "
      ]
     },
     "execution_count": 8,
     "metadata": {},
     "output_type": "execute_result"
    }
   ],
   "source": [
    "%%time\n",
    "\n",
    "df = get_complains(76804, 'bet365')\n",
    "\n",
    "df.head()"
   ]
  },
  {
   "cell_type": "code",
   "execution_count": 11,
   "id": "47d1e22e",
   "metadata": {},
   "outputs": [
    {
     "name": "stdout",
     "output_type": "stream",
     "text": [
      "CPU times: user 2min 3s, sys: 962 ms, total: 2min 4s\n",
      "Wall time: 22min 27s\n"
     ]
    },
    {
     "data": {
      "text/html": [
       "<div>\n",
       "<style scoped>\n",
       "    .dataframe tbody tr th:only-of-type {\n",
       "        vertical-align: middle;\n",
       "    }\n",
       "\n",
       "    .dataframe tbody tr th {\n",
       "        vertical-align: top;\n",
       "    }\n",
       "\n",
       "    .dataframe thead th {\n",
       "        text-align: right;\n",
       "    }\n",
       "</style>\n",
       "<table border=\"1\" class=\"dataframe\">\n",
       "  <thead>\n",
       "    <tr style=\"text-align: right;\">\n",
       "      <th></th>\n",
       "      <th>company_name</th>\n",
       "      <th>description</th>\n",
       "      <th>href</th>\n",
       "      <th>full_complain</th>\n",
       "    </tr>\n",
       "  </thead>\n",
       "  <tbody>\n",
       "    <tr>\n",
       "      <th>0</th>\n",
       "      <td>bet365</td>\n",
       "      <td>Eu criei a conta num dia , usei , depositei di...</td>\n",
       "      <td>exclusao-da-conta-do-nada_Dud9R8-AUMYcE5wj</td>\n",
       "      <td>Eu criei a conta num dia , usei , depositei di...</td>\n",
       "    </tr>\n",
       "    <tr>\n",
       "      <th>1</th>\n",
       "      <td>bet365</td>\n",
       "      <td>Fiz o cadastro na bet365 coloquei 100 reais e ...</td>\n",
       "      <td>quero-uma-solucao-o-mais-rapid9-possivel_zsCsP...</td>\n",
       "      <td>Fiz o cadastro na bet365 coloquei 100 reais e ...</td>\n",
       "    </tr>\n",
       "    <tr>\n",
       "      <th>2</th>\n",
       "      <td>bet365</td>\n",
       "      <td>Possuo um cadastro com saldo no site, não poss...</td>\n",
       "      <td>exclusao-de-cadastro_GvIGnA-pGALXPADB</td>\n",
       "      <td>Possuo um cadastro com saldo no site, não poss...</td>\n",
       "    </tr>\n",
       "    <tr>\n",
       "      <th>3</th>\n",
       "      <td>bet365</td>\n",
       "      <td>Bom dia quero fazer aposta  porém não validara...</td>\n",
       "      <td>validade-de-indentidade_9Aa2wovUP31RRsuK</td>\n",
       "      <td>Bom dia quero fazer aposta  porém não validara...</td>\n",
       "    </tr>\n",
       "    <tr>\n",
       "      <th>4</th>\n",
       "      <td>bet365</td>\n",
       "      <td>Eu fiz um depósito  de 30 reais na bet 365 e c...</td>\n",
       "      <td>a-bet-tirou-meu-dinheiro_DGK8-zT7j9HCgFW-</td>\n",
       "      <td>Eu fiz um depósito  de 30 reais na bet 365 e c...</td>\n",
       "    </tr>\n",
       "  </tbody>\n",
       "</table>\n",
       "</div>"
      ],
      "text/plain": [
       "  company_name                                        description  \\\n",
       "0       bet365  Eu criei a conta num dia , usei , depositei di...   \n",
       "1       bet365  Fiz o cadastro na bet365 coloquei 100 reais e ...   \n",
       "2       bet365  Possuo um cadastro com saldo no site, não poss...   \n",
       "3       bet365  Bom dia quero fazer aposta  porém não validara...   \n",
       "4       bet365  Eu fiz um depósito  de 30 reais na bet 365 e c...   \n",
       "\n",
       "                                                href  \\\n",
       "0         exclusao-da-conta-do-nada_Dud9R8-AUMYcE5wj   \n",
       "1  quero-uma-solucao-o-mais-rapid9-possivel_zsCsP...   \n",
       "2              exclusao-de-cadastro_GvIGnA-pGALXPADB   \n",
       "3           validade-de-indentidade_9Aa2wovUP31RRsuK   \n",
       "4          a-bet-tirou-meu-dinheiro_DGK8-zT7j9HCgFW-   \n",
       "\n",
       "                                       full_complain  \n",
       "0  Eu criei a conta num dia , usei , depositei di...  \n",
       "1  Fiz o cadastro na bet365 coloquei 100 reais e ...  \n",
       "2  Possuo um cadastro com saldo no site, não poss...  \n",
       "3  Bom dia quero fazer aposta  porém não validara...  \n",
       "4  Eu fiz um depósito  de 30 reais na bet 365 e c...  "
      ]
     },
     "execution_count": 11,
     "metadata": {},
     "output_type": "execute_result"
    }
   ],
   "source": [
    "%%time\n",
    "\n",
    "for i, company_name, href in zip(df.index, df.company_name, df.href):\n",
    "    try:\n",
    "        url = f\"https://www.reclameaqui.com.br/{company_name}/{href}/\"\n",
    "        res = requests.get(url, headers=HEADERS)\n",
    "\n",
    "        soup = BeautifulSoup(res.text, 'lxml')\n",
    "        complain = soup.find('p', {'class': 'lzlu7c-17 fXwQIB'}).text\n",
    "        df.iloc[i]['full_complain'] = complain\n",
    "    except:\n",
    "        print(href)\n",
    "        df.drop(index=i, inplace=True)\n",
    "\n",
    "df.head()"
   ]
  }
 ],
 "metadata": {
  "kernelspec": {
   "display_name": "Python 3 (ipykernel)",
   "language": "python",
   "name": "python3"
  },
  "language_info": {
   "codemirror_mode": {
    "name": "ipython",
    "version": 3
   },
   "file_extension": ".py",
   "mimetype": "text/x-python",
   "name": "python",
   "nbconvert_exporter": "python",
   "pygments_lexer": "ipython3",
   "version": "3.10.6"
  }
 },
 "nbformat": 4,
 "nbformat_minor": 5
}
