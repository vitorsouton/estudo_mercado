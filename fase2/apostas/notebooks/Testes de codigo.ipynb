{
 "cells": [
  {
   "cell_type": "markdown",
   "id": "c2861b34",
   "metadata": {},
   "source": [
    "# Desenvolver o codigo para automatizar a busca no Rec Aq\n",
    "\n",
    "* https://www.reclameaqui.com.br/empresa/bet365/lista-reclamacoes/?pagina=1"
   ]
  },
  {
   "cell_type": "code",
   "execution_count": 162,
   "id": "670fb8b8",
   "metadata": {},
   "outputs": [],
   "source": [
    "from bs4 import BeautifulSoup\n",
    "from unidecode import unidecode\n",
    "\n",
    "import pandas as pd\n",
    "import numpy as np\n",
    "\n",
    "import string\n",
    "import requests"
   ]
  },
  {
   "cell_type": "code",
   "execution_count": 231,
   "id": "4f4a69ba",
   "metadata": {},
   "outputs": [],
   "source": [
    "HEADERS = {'User-Agent': 'Mozilla/5.0 (Windows NT 6.1; WOW64; rv:50.0) Gecko/20100101 Firefox/50.0'}\n",
    "\n",
    "def get_complains(company_id, company_name):\n",
    "\n",
    "    complains = {'descriptions': [], 'hrefs': []}\n",
    "    \n",
    "    for n in range(0, 1001, 10):\n",
    "        url = f'https://iosearch.reclameaqui.com.br/raichu-io-site-search-v1/query/companyComplains/10/{n}'\n",
    "        res = requests.get(url, params={'company': company_id}, headers=HEADERS).json()\n",
    "\n",
    "        for x in range(10):\n",
    "            data = res['complainResult']['complains']['data']\n",
    "            \n",
    "            description = data[x]['description']\n",
    "            soup = BeautifulSoup(description, 'lxml').text\n",
    "            complains['descriptions'].append(soup)\n",
    "            \n",
    "            id_ = data[x]['id']\n",
    "            title = data[x]['title']\n",
    "            clean_title = title.translate(str.maketrans('', '', string.punctuation))\n",
    "            href = clean_title.lower() + '_' + id_\n",
    "            href = unidecode(href.replace(' ', '-'))\n",
    "            complains['hrefs'].append(href)\n",
    "    \n",
    "    company_complains = {company_name: complains}\n",
    "    \n",
    "    return company_complains"
   ]
  }
 ],
 "metadata": {
  "kernelspec": {
   "display_name": "Python 3 (ipykernel)",
   "language": "python",
   "name": "python3"
  },
  "language_info": {
   "codemirror_mode": {
    "name": "ipython",
    "version": 3
   },
   "file_extension": ".py",
   "mimetype": "text/x-python",
   "name": "python",
   "nbconvert_exporter": "python",
   "pygments_lexer": "ipython3",
   "version": "3.10.6"
  }
 },
 "nbformat": 4,
 "nbformat_minor": 5
}
