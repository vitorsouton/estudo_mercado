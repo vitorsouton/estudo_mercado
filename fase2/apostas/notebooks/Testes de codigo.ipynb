{
 "cells": [
  {
   "cell_type": "markdown",
   "id": "c2861b34",
   "metadata": {},
   "source": [
    "# Desenvolver o codigo para automatizar a busca no Rec Aq\n",
    "\n",
    "* https://www.reclameaqui.com.br/empresa/bet365/lista-reclamacoes/?pagina=1"
   ]
  },
  {
   "cell_type": "code",
   "execution_count": 1,
   "id": "670fb8b8",
   "metadata": {},
   "outputs": [],
   "source": [
    "from bs4 import BeautifulSoup\n",
    "from unidecode import unidecode\n",
    "\n",
    "import pandas as pd\n",
    "import numpy as np\n",
    "\n",
    "import string\n",
    "import requests"
   ]
  },
  {
   "cell_type": "code",
   "execution_count": 2,
   "id": "4f4a69ba",
   "metadata": {},
   "outputs": [],
   "source": [
    "HEADERS = {'User-Agent': 'Mozilla/5.0 (Windows NT 6.1; WOW64; rv:50.0) Gecko/20100101 Firefox/50.0'}\n",
    "\n",
    "def get_complains(company_id, company_name):\n",
    "\n",
    "    complains = {'company_name': [], 'description': [], 'href': []}\n",
    "    \n",
    "    for n in range(0, 1001, 10):\n",
    "        url = f'https://iosearch.reclameaqui.com.br/raichu-io-site-search-v1/query/companyComplains/10/{n}'\n",
    "        res = requests.get(url, params={'company': company_id}, headers=HEADERS).json()\n",
    "\n",
    "        for x in range(10):\n",
    "            data = res['complainResult']['complains']['data']\n",
    "            \n",
    "            description = data[x]['description']\n",
    "            soup = BeautifulSoup(description, 'lxml').text\n",
    "            complains['description'].append(soup)\n",
    "            \n",
    "            id_ = data[x]['id']\n",
    "            title = data[x]['title']\n",
    "            clean_title = title.translate(str.maketrans('', '', string.punctuation))\n",
    "            href = clean_title.lower().strip() + '_' + id_\n",
    "            href = unidecode(href.replace(' ', '-'))\n",
    "            complains['href'].append(href)\n",
    "            \n",
    "            complains['company_name'].append(company_name)\n",
    "    \n",
    "    return complains"
   ]
  },
  {
   "cell_type": "code",
   "execution_count": 3,
   "id": "9f047a07",
   "metadata": {},
   "outputs": [
    {
     "name": "stderr",
     "output_type": "stream",
     "text": [
      "/home/vitor/.pyenv/versions/3.10.6/envs/estudo/lib/python3.10/site-packages/bs4/__init__.py:435: MarkupResemblesLocatorWarning: The input looks more like a filename than markup. You may want to open this file and pass the filehandle into Beautiful Soup.\n",
      "  warnings.warn(\n"
     ]
    }
   ],
   "source": [
    "data = get_complains(76804, 'bet365')"
   ]
  },
  {
   "cell_type": "code",
   "execution_count": 4,
   "id": "4764265e",
   "metadata": {},
   "outputs": [
    {
     "data": {
      "text/html": [
       "<div>\n",
       "<style scoped>\n",
       "    .dataframe tbody tr th:only-of-type {\n",
       "        vertical-align: middle;\n",
       "    }\n",
       "\n",
       "    .dataframe tbody tr th {\n",
       "        vertical-align: top;\n",
       "    }\n",
       "\n",
       "    .dataframe thead th {\n",
       "        text-align: right;\n",
       "    }\n",
       "</style>\n",
       "<table border=\"1\" class=\"dataframe\">\n",
       "  <thead>\n",
       "    <tr style=\"text-align: right;\">\n",
       "      <th></th>\n",
       "      <th>company_name</th>\n",
       "      <th>description</th>\n",
       "      <th>href</th>\n",
       "    </tr>\n",
       "  </thead>\n",
       "  <tbody>\n",
       "    <tr>\n",
       "      <th>0</th>\n",
       "      <td>bet365</td>\n",
       "      <td>Fiz uma aposta e estava ganhando faltando apen...</td>\n",
       "      <td>minha-aposta-foi-manipulada-pelo-sistema_U8v16...</td>\n",
       "    </tr>\n",
       "    <tr>\n",
       "      <th>1</th>\n",
       "      <td>bet365</td>\n",
       "      <td>Fiz uma conta , fiz o depósito via pix, comece...</td>\n",
       "      <td>reembolso_EKRMsEKk_rbmC5IZ</td>\n",
       "    </tr>\n",
       "    <tr>\n",
       "      <th>2</th>\n",
       "      <td>bet365</td>\n",
       "      <td>Eu criei uma conta nova recentemente, usei ach...</td>\n",
       "      <td>conta-nova-restricao_ggudKvG7nIqFoj3L</td>\n",
       "    </tr>\n",
       "    <tr>\n",
       "      <th>3</th>\n",
       "      <td>bet365</td>\n",
       "      <td>Fiz uma aposta Vasco vencedor no segundo tempo...</td>\n",
       "      <td>solucao-de-aposta-do-jogo-vasco-e-guarani_mCK6...</td>\n",
       "    </tr>\n",
       "    <tr>\n",
       "      <th>4</th>\n",
       "      <td>bet365</td>\n",
       "      <td>Prezados minha conta foi bloqueada e não consi...</td>\n",
       "      <td>nao-consigo-entrar-na-minha-conta_37a8Qrk-B1kW...</td>\n",
       "    </tr>\n",
       "    <tr>\n",
       "      <th>...</th>\n",
       "      <td>...</td>\n",
       "      <td>...</td>\n",
       "      <td>...</td>\n",
       "    </tr>\n",
       "    <tr>\n",
       "      <th>1005</th>\n",
       "      <td>bet365</td>\n",
       "      <td>Quero meus 34.21E meu bonus 34.21</td>\n",
       "      <td>minha-aposta-foi-encerrada-sem-minha-autorizac...</td>\n",
       "    </tr>\n",
       "    <tr>\n",
       "      <th>1006</th>\n",
       "      <td>bet365</td>\n",
       "      <td>Fizeram um pix que eu ganhei de 100 reais no m...</td>\n",
       "      <td>devolucao-de-pix_iSqtJj8BWVfrRne3</td>\n",
       "    </tr>\n",
       "    <tr>\n",
       "      <th>1007</th>\n",
       "      <td>bet365</td>\n",
       "      <td>O acesso à minha conta foi cortado, 50 reais f...</td>\n",
       "      <td>engoliram-r5000-do-meu-deposito-cortaram-o-ace...</td>\n",
       "    </tr>\n",
       "    <tr>\n",
       "      <th>1008</th>\n",
       "      <td>bet365</td>\n",
       "      <td>Estou a 2 semanas tentando fazer deposito na c...</td>\n",
       "      <td>deposito-malsucedido_9ss-d9wwdVJnallQ</td>\n",
       "    </tr>\n",
       "    <tr>\n",
       "      <th>1009</th>\n",
       "      <td>bet365</td>\n",
       "      <td>Efetuei dois depósitos no valor de 2.000 BRL c...</td>\n",
       "      <td>deposito-mal-sucedido_HmToX8TOoE7zJrHg</td>\n",
       "    </tr>\n",
       "  </tbody>\n",
       "</table>\n",
       "<p>1010 rows × 3 columns</p>\n",
       "</div>"
      ],
      "text/plain": [
       "     company_name                                        description  \\\n",
       "0          bet365  Fiz uma aposta e estava ganhando faltando apen...   \n",
       "1          bet365  Fiz uma conta , fiz o depósito via pix, comece...   \n",
       "2          bet365  Eu criei uma conta nova recentemente, usei ach...   \n",
       "3          bet365  Fiz uma aposta Vasco vencedor no segundo tempo...   \n",
       "4          bet365  Prezados minha conta foi bloqueada e não consi...   \n",
       "...           ...                                                ...   \n",
       "1005       bet365                  Quero meus 34.21E meu bonus 34.21   \n",
       "1006       bet365  Fizeram um pix que eu ganhei de 100 reais no m...   \n",
       "1007       bet365  O acesso à minha conta foi cortado, 50 reais f...   \n",
       "1008       bet365  Estou a 2 semanas tentando fazer deposito na c...   \n",
       "1009       bet365  Efetuei dois depósitos no valor de 2.000 BRL c...   \n",
       "\n",
       "                                                   href  \n",
       "0     minha-aposta-foi-manipulada-pelo-sistema_U8v16...  \n",
       "1                            reembolso_EKRMsEKk_rbmC5IZ  \n",
       "2                 conta-nova-restricao_ggudKvG7nIqFoj3L  \n",
       "3     solucao-de-aposta-do-jogo-vasco-e-guarani_mCK6...  \n",
       "4     nao-consigo-entrar-na-minha-conta_37a8Qrk-B1kW...  \n",
       "...                                                 ...  \n",
       "1005  minha-aposta-foi-encerrada-sem-minha-autorizac...  \n",
       "1006                  devolucao-de-pix_iSqtJj8BWVfrRne3  \n",
       "1007  engoliram-r5000-do-meu-deposito-cortaram-o-ace...  \n",
       "1008              deposito-malsucedido_9ss-d9wwdVJnallQ  \n",
       "1009             deposito-mal-sucedido_HmToX8TOoE7zJrHg  \n",
       "\n",
       "[1010 rows x 3 columns]"
      ]
     },
     "execution_count": 4,
     "metadata": {},
     "output_type": "execute_result"
    }
   ],
   "source": [
    "df = pd.DataFrame(data)\n",
    "df"
   ]
  },
  {
   "cell_type": "code",
   "execution_count": 11,
   "id": "47d1e22e",
   "metadata": {},
   "outputs": [
    {
     "name": "stdout",
     "output_type": "stream",
     "text": [
      "nao-consigo-receber-meu-dinheiro_alI6h__ymn6ELXug\n",
      "deposito-incompleto_IBMyEYzVy7lLkvxC\n",
      "CPU times: user 1min 48s, sys: 877 ms, total: 1min 49s\n",
      "Wall time: 20min 23s\n"
     ]
    },
    {
     "data": {
      "text/html": [
       "<div>\n",
       "<style scoped>\n",
       "    .dataframe tbody tr th:only-of-type {\n",
       "        vertical-align: middle;\n",
       "    }\n",
       "\n",
       "    .dataframe tbody tr th {\n",
       "        vertical-align: top;\n",
       "    }\n",
       "\n",
       "    .dataframe thead th {\n",
       "        text-align: right;\n",
       "    }\n",
       "</style>\n",
       "<table border=\"1\" class=\"dataframe\">\n",
       "  <thead>\n",
       "    <tr style=\"text-align: right;\">\n",
       "      <th></th>\n",
       "      <th>company_name</th>\n",
       "      <th>description</th>\n",
       "      <th>href</th>\n",
       "    </tr>\n",
       "  </thead>\n",
       "  <tbody>\n",
       "    <tr>\n",
       "      <th>0</th>\n",
       "      <td>bet365</td>\n",
       "      <td>Fiz uma aposta e estava ganhando faltando apen...</td>\n",
       "      <td>minha-aposta-foi-manipulada-pelo-sistema_U8v16...</td>\n",
       "    </tr>\n",
       "    <tr>\n",
       "      <th>1</th>\n",
       "      <td>bet365</td>\n",
       "      <td>Fiz uma conta , fiz o depósito via pix, comece...</td>\n",
       "      <td>reembolso_EKRMsEKk_rbmC5IZ</td>\n",
       "    </tr>\n",
       "    <tr>\n",
       "      <th>2</th>\n",
       "      <td>bet365</td>\n",
       "      <td>Eu criei uma conta nova recentemente, usei ach...</td>\n",
       "      <td>conta-nova-restricao_ggudKvG7nIqFoj3L</td>\n",
       "    </tr>\n",
       "    <tr>\n",
       "      <th>3</th>\n",
       "      <td>bet365</td>\n",
       "      <td>Fiz uma aposta Vasco vencedor no segundo tempo...</td>\n",
       "      <td>solucao-de-aposta-do-jogo-vasco-e-guarani_mCK6...</td>\n",
       "    </tr>\n",
       "    <tr>\n",
       "      <th>4</th>\n",
       "      <td>bet365</td>\n",
       "      <td>Prezados minha conta foi bloqueada e não consi...</td>\n",
       "      <td>nao-consigo-entrar-na-minha-conta_37a8Qrk-B1kW...</td>\n",
       "    </tr>\n",
       "  </tbody>\n",
       "</table>\n",
       "</div>"
      ],
      "text/plain": [
       "  company_name                                        description  \\\n",
       "0       bet365  Fiz uma aposta e estava ganhando faltando apen...   \n",
       "1       bet365  Fiz uma conta , fiz o depósito via pix, comece...   \n",
       "2       bet365  Eu criei uma conta nova recentemente, usei ach...   \n",
       "3       bet365  Fiz uma aposta Vasco vencedor no segundo tempo...   \n",
       "4       bet365  Prezados minha conta foi bloqueada e não consi...   \n",
       "\n",
       "                                                href  \n",
       "0  minha-aposta-foi-manipulada-pelo-sistema_U8v16...  \n",
       "1                         reembolso_EKRMsEKk_rbmC5IZ  \n",
       "2              conta-nova-restricao_ggudKvG7nIqFoj3L  \n",
       "3  solucao-de-aposta-do-jogo-vasco-e-guarani_mCK6...  \n",
       "4  nao-consigo-entrar-na-minha-conta_37a8Qrk-B1kW...  "
      ]
     },
     "execution_count": 11,
     "metadata": {},
     "output_type": "execute_result"
    }
   ],
   "source": [
    "%%time\n",
    "\n",
    "for i, company_name, href in zip(df.index, df.company_name, df.href):\n",
    "    try:\n",
    "        url = f\"https://www.reclameaqui.com.br/{company_name}/{href}/\"\n",
    "        res = requests.get(url, headers=HEADERS)\n",
    "\n",
    "        soup = BeautifulSoup(res.text, 'lxml')\n",
    "        complain = soup.find('p', {'class': 'lzlu7c-17 fXwQIB'}).text\n",
    "        df.iloc[i]['full_complain'] = complain\n",
    "    except:\n",
    "        print(href)\n",
    "        continue\n",
    "\n",
    "df.head()"
   ]
  },
  {
   "cell_type": "code",
   "execution_count": 12,
   "id": "42832c00",
   "metadata": {},
   "outputs": [
    {
     "data": {
      "text/plain": [
       "(1010, 3)"
      ]
     },
     "execution_count": 12,
     "metadata": {},
     "output_type": "execute_result"
    }
   ],
   "source": [
    "df.shape"
   ]
  }
 ],
 "metadata": {
  "kernelspec": {
   "display_name": "Python 3 (ipykernel)",
   "language": "python",
   "name": "python3"
  },
  "language_info": {
   "codemirror_mode": {
    "name": "ipython",
    "version": 3
   },
   "file_extension": ".py",
   "mimetype": "text/x-python",
   "name": "python",
   "nbconvert_exporter": "python",
   "pygments_lexer": "ipython3",
   "version": "3.10.6"
  }
 },
 "nbformat": 4,
 "nbformat_minor": 5
}
