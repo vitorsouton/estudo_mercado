{
 "cells": [
  {
   "cell_type": "markdown",
   "id": "419dd1a8",
   "metadata": {
    "heading_collapsed": true,
    "slideshow": {
     "slide_type": "skip"
    }
   },
   "source": [
    "# Prep"
   ]
  },
  {
   "cell_type": "code",
   "execution_count": 58,
   "id": "1c1955c8",
   "metadata": {
    "hidden": true,
    "slideshow": {
     "slide_type": "skip"
    }
   },
   "outputs": [],
   "source": [
    "import pandas as pd\n",
    "import numpy as np\n",
    "import seaborn as sns\n",
    "import matplotlib.pyplot as plt\n",
    "\n",
    "import warnings; warnings.filterwarnings('ignore')"
   ]
  },
  {
   "cell_type": "code",
   "execution_count": 88,
   "id": "f9e1c013",
   "metadata": {
    "hidden": true,
    "slideshow": {
     "slide_type": "skip"
    }
   },
   "outputs": [
    {
     "data": {
      "text/html": [
       "<div>\n",
       "<style scoped>\n",
       "    .dataframe tbody tr th:only-of-type {\n",
       "        vertical-align: middle;\n",
       "    }\n",
       "\n",
       "    .dataframe tbody tr th {\n",
       "        vertical-align: top;\n",
       "    }\n",
       "\n",
       "    .dataframe thead th {\n",
       "        text-align: right;\n",
       "    }\n",
       "</style>\n",
       "<table border=\"1\" class=\"dataframe\">\n",
       "  <thead>\n",
       "    <tr style=\"text-align: right;\">\n",
       "      <th></th>\n",
       "      <th>company_name</th>\n",
       "      <th>brazilian_visitors</th>\n",
       "      <th>hq_country</th>\n",
       "      <th>bounce_rate</th>\n",
       "      <th>visit_duration</th>\n",
       "      <th>male</th>\n",
       "      <th>female</th>\n",
       "      <th>18-24</th>\n",
       "      <th>25-34</th>\n",
       "      <th>35-44</th>\n",
       "      <th>45-54</th>\n",
       "      <th>55-64</th>\n",
       "      <th>65+</th>\n",
       "    </tr>\n",
       "  </thead>\n",
       "  <tbody>\n",
       "    <tr>\n",
       "      <th>0</th>\n",
       "      <td>mansion.com</td>\n",
       "      <td>-1</td>\n",
       "      <td>Gibraltar</td>\n",
       "      <td>0.828</td>\n",
       "      <td>0.0</td>\n",
       "      <td>0.640</td>\n",
       "      <td>0.360</td>\n",
       "      <td>0.223</td>\n",
       "      <td>0.295</td>\n",
       "      <td>0.193</td>\n",
       "      <td>0.135</td>\n",
       "      <td>0.093</td>\n",
       "      <td>0.061</td>\n",
       "    </tr>\n",
       "    <tr>\n",
       "      <th>1</th>\n",
       "      <td>worldsportsbetting.co.za</td>\n",
       "      <td>-1</td>\n",
       "      <td>South Africa</td>\n",
       "      <td>0.262</td>\n",
       "      <td>16.0</td>\n",
       "      <td>0.665</td>\n",
       "      <td>0.335</td>\n",
       "      <td>0.239</td>\n",
       "      <td>0.333</td>\n",
       "      <td>0.201</td>\n",
       "      <td>0.117</td>\n",
       "      <td>0.063</td>\n",
       "      <td>0.048</td>\n",
       "    </tr>\n",
       "    <tr>\n",
       "      <th>2</th>\n",
       "      <td>merrybet.com</td>\n",
       "      <td>-1</td>\n",
       "      <td>Nigeria</td>\n",
       "      <td>0.165</td>\n",
       "      <td>12.0</td>\n",
       "      <td>0.728</td>\n",
       "      <td>0.272</td>\n",
       "      <td>0.164</td>\n",
       "      <td>0.343</td>\n",
       "      <td>0.220</td>\n",
       "      <td>0.138</td>\n",
       "      <td>0.085</td>\n",
       "      <td>0.049</td>\n",
       "    </tr>\n",
       "    <tr>\n",
       "      <th>3</th>\n",
       "      <td>sunbet.co.za</td>\n",
       "      <td>2932</td>\n",
       "      <td>South Africa</td>\n",
       "      <td>0.445</td>\n",
       "      <td>11.0</td>\n",
       "      <td>0.563</td>\n",
       "      <td>0.437</td>\n",
       "      <td>0.174</td>\n",
       "      <td>0.295</td>\n",
       "      <td>0.191</td>\n",
       "      <td>0.149</td>\n",
       "      <td>0.103</td>\n",
       "      <td>0.088</td>\n",
       "    </tr>\n",
       "    <tr>\n",
       "      <th>4</th>\n",
       "      <td>queenvegas.com</td>\n",
       "      <td>-1</td>\n",
       "      <td>Malta</td>\n",
       "      <td>0.120</td>\n",
       "      <td>3.0</td>\n",
       "      <td>0.567</td>\n",
       "      <td>0.433</td>\n",
       "      <td>0.153</td>\n",
       "      <td>0.305</td>\n",
       "      <td>0.202</td>\n",
       "      <td>0.160</td>\n",
       "      <td>0.111</td>\n",
       "      <td>0.070</td>\n",
       "    </tr>\n",
       "  </tbody>\n",
       "</table>\n",
       "</div>"
      ],
      "text/plain": [
       "               company_name  brazilian_visitors    hq_country  bounce_rate  \\\n",
       "0               mansion.com                  -1     Gibraltar        0.828   \n",
       "1  worldsportsbetting.co.za                  -1  South Africa        0.262   \n",
       "2              merrybet.com                  -1       Nigeria        0.165   \n",
       "3              sunbet.co.za                2932  South Africa        0.445   \n",
       "4            queenvegas.com                  -1         Malta        0.120   \n",
       "\n",
       "   visit_duration   male  female  18-24  25-34  35-44  45-54  55-64    65+  \n",
       "0             0.0  0.640   0.360  0.223  0.295  0.193  0.135  0.093  0.061  \n",
       "1            16.0  0.665   0.335  0.239  0.333  0.201  0.117  0.063  0.048  \n",
       "2            12.0  0.728   0.272  0.164  0.343  0.220  0.138  0.085  0.049  \n",
       "3            11.0  0.563   0.437  0.174  0.295  0.191  0.149  0.103  0.088  \n",
       "4             3.0  0.567   0.433  0.153  0.305  0.202  0.160  0.111  0.070  "
      ]
     },
     "execution_count": 88,
     "metadata": {},
     "output_type": "execute_result"
    }
   ],
   "source": [
    "df = pd.read_csv('../data/apostas_info.csv', index_col=0)"
   ]
  },
  {
   "cell_type": "code",
   "execution_count": 89,
   "id": "c8988616",
   "metadata": {
    "hidden": true,
    "slideshow": {
     "slide_type": "skip"
    }
   },
   "outputs": [
    {
     "data": {
      "text/html": [
       "<div>\n",
       "<style scoped>\n",
       "    .dataframe tbody tr th:only-of-type {\n",
       "        vertical-align: middle;\n",
       "    }\n",
       "\n",
       "    .dataframe tbody tr th {\n",
       "        vertical-align: top;\n",
       "    }\n",
       "\n",
       "    .dataframe thead th {\n",
       "        text-align: right;\n",
       "    }\n",
       "</style>\n",
       "<table border=\"1\" class=\"dataframe\">\n",
       "  <thead>\n",
       "    <tr style=\"text-align: right;\">\n",
       "      <th></th>\n",
       "      <th>company_name</th>\n",
       "      <th>brazilian_visitors</th>\n",
       "      <th>hq_country</th>\n",
       "      <th>bounce_rate</th>\n",
       "      <th>visit_duration</th>\n",
       "      <th>male</th>\n",
       "      <th>female</th>\n",
       "      <th>18-24</th>\n",
       "      <th>25-34</th>\n",
       "      <th>35-44</th>\n",
       "      <th>45-54</th>\n",
       "      <th>55-64</th>\n",
       "      <th>65+</th>\n",
       "    </tr>\n",
       "  </thead>\n",
       "  <tbody>\n",
       "    <tr>\n",
       "      <th>0</th>\n",
       "      <td>amaya.biz</td>\n",
       "      <td>-1</td>\n",
       "      <td>United Kingdom</td>\n",
       "      <td>0.114</td>\n",
       "      <td>3.0</td>\n",
       "      <td>0.578</td>\n",
       "      <td>0.422</td>\n",
       "      <td>0.160</td>\n",
       "      <td>0.289</td>\n",
       "      <td>0.229</td>\n",
       "      <td>0.147</td>\n",
       "      <td>0.101</td>\n",
       "      <td>0.072</td>\n",
       "    </tr>\n",
       "    <tr>\n",
       "      <th>1</th>\n",
       "      <td>amaya.biz</td>\n",
       "      <td>-1</td>\n",
       "      <td>United Kingdom</td>\n",
       "      <td>0.114</td>\n",
       "      <td>2.0</td>\n",
       "      <td>0.578</td>\n",
       "      <td>0.422</td>\n",
       "      <td>0.161</td>\n",
       "      <td>0.289</td>\n",
       "      <td>0.229</td>\n",
       "      <td>0.147</td>\n",
       "      <td>0.102</td>\n",
       "      <td>0.072</td>\n",
       "    </tr>\n",
       "    <tr>\n",
       "      <th>2</th>\n",
       "      <td>toppokervalue.com</td>\n",
       "      <td>-1</td>\n",
       "      <td>- -</td>\n",
       "      <td>NaN</td>\n",
       "      <td>NaN</td>\n",
       "      <td>NaN</td>\n",
       "      <td>NaN</td>\n",
       "      <td>NaN</td>\n",
       "      <td>NaN</td>\n",
       "      <td>NaN</td>\n",
       "      <td>NaN</td>\n",
       "      <td>NaN</td>\n",
       "      <td>NaN</td>\n",
       "    </tr>\n",
       "    <tr>\n",
       "      <th>3</th>\n",
       "      <td>segurobet.com</td>\n",
       "      <td>78600</td>\n",
       "      <td>- -</td>\n",
       "      <td>0.177</td>\n",
       "      <td>15.0</td>\n",
       "      <td>0.528</td>\n",
       "      <td>0.472</td>\n",
       "      <td>0.279</td>\n",
       "      <td>0.346</td>\n",
       "      <td>0.180</td>\n",
       "      <td>0.104</td>\n",
       "      <td>0.065</td>\n",
       "      <td>0.027</td>\n",
       "    </tr>\n",
       "    <tr>\n",
       "      <th>4</th>\n",
       "      <td>pokerexpertguide.com</td>\n",
       "      <td>-1</td>\n",
       "      <td>- -</td>\n",
       "      <td>NaN</td>\n",
       "      <td>NaN</td>\n",
       "      <td>NaN</td>\n",
       "      <td>NaN</td>\n",
       "      <td>NaN</td>\n",
       "      <td>NaN</td>\n",
       "      <td>NaN</td>\n",
       "      <td>NaN</td>\n",
       "      <td>NaN</td>\n",
       "      <td>NaN</td>\n",
       "    </tr>\n",
       "  </tbody>\n",
       "</table>\n",
       "</div>"
      ],
      "text/plain": [
       "           company_name  brazilian_visitors      hq_country  bounce_rate  \\\n",
       "0             amaya.biz                  -1  United Kingdom        0.114   \n",
       "1             amaya.biz                  -1  United Kingdom        0.114   \n",
       "2     toppokervalue.com                  -1             - -          NaN   \n",
       "3         segurobet.com               78600             - -        0.177   \n",
       "4  pokerexpertguide.com                  -1             - -          NaN   \n",
       "\n",
       "   visit_duration   male  female  18-24  25-34  35-44  45-54  55-64    65+  \n",
       "0             3.0  0.578   0.422  0.160  0.289  0.229  0.147  0.101  0.072  \n",
       "1             2.0  0.578   0.422  0.161  0.289  0.229  0.147  0.102  0.072  \n",
       "2             NaN    NaN     NaN    NaN    NaN    NaN    NaN    NaN    NaN  \n",
       "3            15.0  0.528   0.472  0.279  0.346  0.180  0.104  0.065  0.027  \n",
       "4             NaN    NaN     NaN    NaN    NaN    NaN    NaN    NaN    NaN  "
      ]
     },
     "execution_count": 89,
     "metadata": {},
     "output_type": "execute_result"
    }
   ],
   "source": [
    "df_poker = pd.read_csv('../data/poker_info.csv', index_col=0)"
   ]
  },
  {
   "cell_type": "code",
   "execution_count": 90,
   "id": "cd91f313",
   "metadata": {
    "hidden": true,
    "slideshow": {
     "slide_type": "skip"
    }
   },
   "outputs": [
    {
     "data": {
      "text/plain": [
       "(835, 13)"
      ]
     },
     "execution_count": 90,
     "metadata": {},
     "output_type": "execute_result"
    }
   ],
   "source": [
    "df = pd.concat([df, df_poker], ignore_index=True)\n",
    "df.shape"
   ]
  },
  {
   "cell_type": "code",
   "execution_count": 91,
   "id": "438b5c69",
   "metadata": {
    "hidden": true,
    "slideshow": {
     "slide_type": "skip"
    }
   },
   "outputs": [],
   "source": [
    "df.hq_country = df.hq_country.replace('- -', 'No info')"
   ]
  },
  {
   "cell_type": "code",
   "execution_count": 93,
   "id": "d90ff6d6",
   "metadata": {
    "hidden": true,
    "slideshow": {
     "slide_type": "skip"
    }
   },
   "outputs": [],
   "source": [
    "df = df.drop_duplicates()"
   ]
  },
  {
   "cell_type": "code",
   "execution_count": 97,
   "id": "e352262e",
   "metadata": {
    "hidden": true,
    "slideshow": {
     "slide_type": "skip"
    }
   },
   "outputs": [
    {
     "data": {
      "text/html": [
       "<div>\n",
       "<style scoped>\n",
       "    .dataframe tbody tr th:only-of-type {\n",
       "        vertical-align: middle;\n",
       "    }\n",
       "\n",
       "    .dataframe tbody tr th {\n",
       "        vertical-align: top;\n",
       "    }\n",
       "\n",
       "    .dataframe thead th {\n",
       "        text-align: right;\n",
       "    }\n",
       "</style>\n",
       "<table border=\"1\" class=\"dataframe\">\n",
       "  <thead>\n",
       "    <tr style=\"text-align: right;\">\n",
       "      <th></th>\n",
       "      <th>company_name</th>\n",
       "      <th>brazilian_visitors</th>\n",
       "      <th>hq_country</th>\n",
       "      <th>bounce_rate</th>\n",
       "      <th>visit_duration</th>\n",
       "      <th>male</th>\n",
       "      <th>female</th>\n",
       "      <th>18-24</th>\n",
       "      <th>25-34</th>\n",
       "      <th>35-44</th>\n",
       "      <th>45-54</th>\n",
       "      <th>55-64</th>\n",
       "      <th>65+</th>\n",
       "    </tr>\n",
       "  </thead>\n",
       "  <tbody>\n",
       "    <tr>\n",
       "      <th>0</th>\n",
       "      <td>mansion.com</td>\n",
       "      <td>-1</td>\n",
       "      <td>Gibraltar</td>\n",
       "      <td>0.828</td>\n",
       "      <td>0.0</td>\n",
       "      <td>0.640</td>\n",
       "      <td>0.360</td>\n",
       "      <td>0.223</td>\n",
       "      <td>0.295</td>\n",
       "      <td>0.193</td>\n",
       "      <td>0.135</td>\n",
       "      <td>0.093</td>\n",
       "      <td>0.061</td>\n",
       "    </tr>\n",
       "    <tr>\n",
       "      <th>1</th>\n",
       "      <td>worldsportsbetting.co.za</td>\n",
       "      <td>-1</td>\n",
       "      <td>South Africa</td>\n",
       "      <td>0.262</td>\n",
       "      <td>16.0</td>\n",
       "      <td>0.665</td>\n",
       "      <td>0.335</td>\n",
       "      <td>0.239</td>\n",
       "      <td>0.333</td>\n",
       "      <td>0.201</td>\n",
       "      <td>0.117</td>\n",
       "      <td>0.063</td>\n",
       "      <td>0.048</td>\n",
       "    </tr>\n",
       "    <tr>\n",
       "      <th>2</th>\n",
       "      <td>merrybet.com</td>\n",
       "      <td>-1</td>\n",
       "      <td>Nigeria</td>\n",
       "      <td>0.165</td>\n",
       "      <td>12.0</td>\n",
       "      <td>0.728</td>\n",
       "      <td>0.272</td>\n",
       "      <td>0.164</td>\n",
       "      <td>0.343</td>\n",
       "      <td>0.220</td>\n",
       "      <td>0.138</td>\n",
       "      <td>0.085</td>\n",
       "      <td>0.049</td>\n",
       "    </tr>\n",
       "    <tr>\n",
       "      <th>3</th>\n",
       "      <td>sunbet.co.za</td>\n",
       "      <td>2932</td>\n",
       "      <td>South Africa</td>\n",
       "      <td>0.445</td>\n",
       "      <td>11.0</td>\n",
       "      <td>0.563</td>\n",
       "      <td>0.437</td>\n",
       "      <td>0.174</td>\n",
       "      <td>0.295</td>\n",
       "      <td>0.191</td>\n",
       "      <td>0.149</td>\n",
       "      <td>0.103</td>\n",
       "      <td>0.088</td>\n",
       "    </tr>\n",
       "    <tr>\n",
       "      <th>4</th>\n",
       "      <td>queenvegas.com</td>\n",
       "      <td>-1</td>\n",
       "      <td>Malta</td>\n",
       "      <td>0.120</td>\n",
       "      <td>3.0</td>\n",
       "      <td>0.567</td>\n",
       "      <td>0.433</td>\n",
       "      <td>0.153</td>\n",
       "      <td>0.305</td>\n",
       "      <td>0.202</td>\n",
       "      <td>0.160</td>\n",
       "      <td>0.111</td>\n",
       "      <td>0.070</td>\n",
       "    </tr>\n",
       "  </tbody>\n",
       "</table>\n",
       "</div>"
      ],
      "text/plain": [
       "               company_name  brazilian_visitors    hq_country  bounce_rate  \\\n",
       "0               mansion.com                  -1     Gibraltar        0.828   \n",
       "1  worldsportsbetting.co.za                  -1  South Africa        0.262   \n",
       "2              merrybet.com                  -1       Nigeria        0.165   \n",
       "3              sunbet.co.za                2932  South Africa        0.445   \n",
       "4            queenvegas.com                  -1         Malta        0.120   \n",
       "\n",
       "   visit_duration   male  female  18-24  25-34  35-44  45-54  55-64    65+  \n",
       "0             0.0  0.640   0.360  0.223  0.295  0.193  0.135  0.093  0.061  \n",
       "1            16.0  0.665   0.335  0.239  0.333  0.201  0.117  0.063  0.048  \n",
       "2            12.0  0.728   0.272  0.164  0.343  0.220  0.138  0.085  0.049  \n",
       "3            11.0  0.563   0.437  0.174  0.295  0.191  0.149  0.103  0.088  \n",
       "4             3.0  0.567   0.433  0.153  0.305  0.202  0.160  0.111  0.070  "
      ]
     },
     "execution_count": 97,
     "metadata": {},
     "output_type": "execute_result"
    }
   ],
   "source": [
    "df.head()"
   ]
  },
  {
   "cell_type": "code",
   "execution_count": 99,
   "id": "bbf791a1",
   "metadata": {
    "hidden": true,
    "slideshow": {
     "slide_type": "skip"
    }
   },
   "outputs": [],
   "source": [
    "df.visit_duration = pd.to_datetime(df.visit_duration, format='%M')"
   ]
  },
  {
   "cell_type": "code",
   "execution_count": 28,
   "id": "4388a9e7",
   "metadata": {
    "hidden": true,
    "slideshow": {
     "slide_type": "skip"
    }
   },
   "outputs": [],
   "source": [
    "df = df.dropna()"
   ]
  },
  {
   "cell_type": "code",
   "execution_count": 101,
   "id": "e9f0590b",
   "metadata": {
    "hidden": true,
    "slideshow": {
     "slide_type": "skip"
    }
   },
   "outputs": [],
   "source": [
    "df_brazil = df[df.brazilian_visitors != -1]"
   ]
  },
  {
   "cell_type": "markdown",
   "id": "79e6ad04",
   "metadata": {
    "slideshow": {
     "slide_type": "slide"
    }
   },
   "source": [
    "# Análise de empresas relevantes no Brasil (Brasil no top 5 acessos)"
   ]
  },
  {
   "cell_type": "markdown",
   "id": "74e37b54",
   "metadata": {
    "slideshow": {
     "slide_type": "subslide"
    }
   },
   "source": [
    "## Número de empresas"
   ]
  },
  {
   "cell_type": "code",
   "execution_count": 66,
   "id": "e2bde30e",
   "metadata": {
    "slideshow": {
     "slide_type": "fragment"
    }
   },
   "outputs": [
    {
     "name": "stdout",
     "output_type": "stream",
     "text": [
      "O Brasil está no top 5 acessos mensais de 41 empresas do segmento\n"
     ]
    }
   ],
   "source": [
    "print(f'O Brasil está no top 5 acessos mensais de {df_brazil.shape[0]} empresas do segmento')"
   ]
  },
  {
   "cell_type": "markdown",
   "id": "40588294",
   "metadata": {
    "slideshow": {
     "slide_type": "subslide"
    }
   },
   "source": [
    "## Acessos mensais"
   ]
  },
  {
   "cell_type": "code",
   "execution_count": 38,
   "id": "ea386e2a",
   "metadata": {
    "slideshow": {
     "slide_type": "fragment"
    }
   },
   "outputs": [
    {
     "name": "stdout",
     "output_type": "stream",
     "text": [
      "Número de visitantes mensais no Brasil: 125.41M\n"
     ]
    }
   ],
   "source": [
    "print(f'Número de visitantes mensais no Brasil: {df_brazil.brazilian_visitors.sum()/1_000_000:.2f}M')"
   ]
  },
  {
   "cell_type": "markdown",
   "id": "b924cffc",
   "metadata": {
    "slideshow": {
     "slide_type": "subslide"
    }
   },
   "source": [
    "## Países sede"
   ]
  },
  {
   "cell_type": "code",
   "execution_count": 128,
   "id": "91a9f3e8",
   "metadata": {
    "slideshow": {
     "slide_type": "fragment"
    }
   },
   "outputs": [
    {
     "data": {
      "image/png": "[encoded data removed]",
      "text/plain": [
       "<Figure size 2100x1100 with 1 Axes>"
      ]
     },
     "metadata": {},
     "output_type": "display_data"
    }
   ],
   "source": [
    "top_countries = df_brazil.hq_country.value_counts()[:6]\n",
    "bot_countries = df_brazil.hq_country.value_counts()[6:]\n",
    "\n",
    "plt.figure(figsize=(21,11))\n",
    "plt.rcParams.update({'font.size':19})\n",
    "sns.barplot(x=top_countries.keys(), y=top_countries.values)\n",
    "plt.tight_layout();"
   ]
  },
  {
   "cell_type": "code",
   "execution_count": 129,
   "id": "b3c71d8e",
   "metadata": {
    "slideshow": {
     "slide_type": "fragment"
    }
   },
   "outputs": [
    {
     "data": {
      "image/png": "[encoded data removed]",
      "text/plain": [
       "<Figure size 2100x1100 with 1 Axes>"
      ]
     },
     "metadata": {},
     "output_type": "display_data"
    }
   ],
   "source": [
    "plt.figure(figsize=(21,11))\n",
    "plt.rcParams.update({'font.size':19})\n",
    "sns.barplot(x=bot_countries.keys(), y=bot_countries.values)\n",
    "plt.tight_layout();"
   ]
  },
  {
   "cell_type": "markdown",
   "id": "4a3cba31",
   "metadata": {
    "slideshow": {
     "slide_type": "subslide"
    }
   },
   "source": [
    "## Qualidade da visita"
   ]
  },
  {
   "cell_type": "code",
   "execution_count": 119,
   "id": "383e3dee",
   "metadata": {
    "slideshow": {
     "slide_type": "fragment"
    }
   },
   "outputs": [
    {
     "name": "stdout",
     "output_type": "stream",
     "text": [
      "A taxa de bounce rate no segmento é em média 49.21%\n",
      "O tempo médio de visita no segmento é de 5:55\n"
     ]
    }
   ],
   "source": [
    "bounce = df_brazil.bounce_rate.mean() * 100\n",
    "visit_dur = df_brazil.visit_duration.mean().time()\n",
    "\n",
    "print(f'A taxa de bounce rate no segmento é em média {bounce:.2f}%')\n",
    "print(f'O tempo médio de visita no segmento é de {visit_dur.minute}:{visit_dur.second}')"
   ]
  },
  {
   "cell_type": "markdown",
   "id": "cecdf2fd",
   "metadata": {
    "slideshow": {
     "slide_type": "subslide"
    }
   },
   "source": [
    "## Demografia"
   ]
  },
  {
   "cell_type": "markdown",
   "id": "58a49949",
   "metadata": {
    "slideshow": {
     "slide_type": "subslide"
    }
   },
   "source": [
    "### Sexo"
   ]
  },
  {
   "cell_type": "code",
   "execution_count": 127,
   "id": "22e673ec",
   "metadata": {
    "slideshow": {
     "slide_type": "fragment"
    }
   },
   "outputs": [
    {
     "data": {
      "image/png": "[encoded data removed]",
      "text/plain": [
       "<Figure size 2100x1100 with 1 Axes>"
      ]
     },
     "metadata": {},
     "output_type": "display_data"
    }
   ],
   "source": [
    "male = round(df_brazil.male.mean(), 2)\n",
    "female = 1 - male\n",
    "\n",
    "plt.figure(figsize=(21,11))\n",
    "plt.rcParams.update({'font.size':19})\n",
    "sns.barplot(x=['male', 'female'], y=[male, female])\n",
    "plt.tight_layout();"
   ]
  },
  {
   "cell_type": "markdown",
   "id": "3aa98f7b",
   "metadata": {
    "slideshow": {
     "slide_type": "subslide"
    }
   },
   "source": [
    "### Idade"
   ]
  },
  {
   "cell_type": "code",
   "execution_count": 143,
   "id": "65303a3e",
   "metadata": {
    "slideshow": {
     "slide_type": "skip"
    }
   },
   "outputs": [],
   "source": [
    "age_buckets = df_brazil.columns[-6:]\n",
    "idade = df_brazil[age_buckets]\n",
    "media_idade = idade.mean()"
   ]
  },
  {
   "cell_type": "code",
   "execution_count": 144,
   "id": "e0469a01",
   "metadata": {
    "slideshow": {
     "slide_type": "fragment"
    }
   },
   "outputs": [
    {
     "data": {
      "image/png": "[encoded data removed]",
      "text/plain": [
       "<Figure size 2100x1100 with 1 Axes>"
      ]
     },
     "metadata": {},
     "output_type": "display_data"
    }
   ],
   "source": [
    "plt.figure(figsize=(21,11))\n",
    "plt.rcParams.update({'font.size':19})\n",
    "sns.barplot(x=media_idade.index, y=media_idade.values)\n",
    "plt.tight_layout();"
   ]
  }
 ],
 "metadata": {
  "celltoolbar": "Slideshow",
  "kernelspec": {
   "display_name": "Python 3 (ipykernel)",
   "language": "python",
   "name": "python3"
  },
  "language_info": {
   "codemirror_mode": {
    "name": "ipython",
    "version": 3
   },
   "file_extension": ".py",
   "mimetype": "text/x-python",
   "name": "python",
   "nbconvert_exporter": "python",
   "pygments_lexer": "ipython3",
   "version": "3.10.0"
  },
  "toc": {
   "base_numbering": 1,
   "nav_menu": {},
   "number_sections": true,
   "sideBar": true,
   "skip_h1_title": false,
   "title_cell": "Table of Contents",
   "title_sidebar": "Contents",
   "toc_cell": false,
   "toc_position": {},
   "toc_section_display": true,
   "toc_window_display": false
  },
  "varInspector": {
   "cols": {
    "lenName": 16,
    "lenType": 16,
    "lenVar": 40
   },
   "kernels_config": {
    "python": {
     "delete_cmd_postfix": "",
     "delete_cmd_prefix": "del ",
     "library": "var_list.py",
     "varRefreshCmd": "print(var_dic_list())"
    },
    "r": {
     "delete_cmd_postfix": ") ",
     "delete_cmd_prefix": "rm(",
     "library": "var_list.r",
     "varRefreshCmd": "cat(var_dic_list()) "
    }
   },
   "types_to_exclude": [
    "module",
    "function",
    "builtin_function_or_method",
    "instance",
    "_Feature"
   ],
   "window_display": false
  }
 },
 "nbformat": 4,
 "nbformat_minor": 5
}
