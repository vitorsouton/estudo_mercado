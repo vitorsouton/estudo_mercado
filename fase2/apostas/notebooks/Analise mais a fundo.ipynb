{
 "cells": [
  {
   "cell_type": "code",
   "execution_count": 2,
   "id": "74b7f67e",
   "metadata": {
    "scrolled": false
   },
   "outputs": [],
   "source": [
    "import sys; sys.setrecursionlimit(10**3)\n",
    "import pandas as pd\n",
    "import os\n",
    "import requests\n",
    "\n",
    "from utils.utils import get_info, get_domains\n",
    "from urllib.parse import urlparse\n",
    "from time import sleep\n",
    "from random import choice"
   ]
  },
  {
   "cell_type": "code",
   "execution_count": 4,
   "id": "c3de5553",
   "metadata": {},
   "outputs": [
    {
     "data": {
      "text/html": [
       "<div>\n",
       "<style scoped>\n",
       "    .dataframe tbody tr th:only-of-type {\n",
       "        vertical-align: middle;\n",
       "    }\n",
       "\n",
       "    .dataframe tbody tr th {\n",
       "        vertical-align: top;\n",
       "    }\n",
       "\n",
       "    .dataframe thead th {\n",
       "        text-align: right;\n",
       "    }\n",
       "</style>\n",
       "<table border=\"1\" class=\"dataframe\">\n",
       "  <thead>\n",
       "    <tr style=\"text-align: right;\">\n",
       "      <th></th>\n",
       "      <th>index</th>\n",
       "      <th>Website</th>\n",
       "      <th>domain</th>\n",
       "    </tr>\n",
       "  </thead>\n",
       "  <tbody>\n",
       "    <tr>\n",
       "      <th>0</th>\n",
       "      <td>0</td>\n",
       "      <td>http://www.amaya.biz</td>\n",
       "      <td>amaya.biz</td>\n",
       "    </tr>\n",
       "    <tr>\n",
       "      <th>1</th>\n",
       "      <td>1</td>\n",
       "      <td>http://www.toppokervalue.com</td>\n",
       "      <td>toppokervalue.com</td>\n",
       "    </tr>\n",
       "    <tr>\n",
       "      <th>2</th>\n",
       "      <td>2</td>\n",
       "      <td>http://www.segurobet.com</td>\n",
       "      <td>segurobet.com</td>\n",
       "    </tr>\n",
       "    <tr>\n",
       "      <th>3</th>\n",
       "      <td>3</td>\n",
       "      <td>http://www.pokerexpertguide.com</td>\n",
       "      <td>pokerexpertguide.com</td>\n",
       "    </tr>\n",
       "    <tr>\n",
       "      <th>4</th>\n",
       "      <td>4</td>\n",
       "      <td>http://www.senava.ch</td>\n",
       "      <td>senava.ch</td>\n",
       "    </tr>\n",
       "  </tbody>\n",
       "</table>\n",
       "</div>"
      ],
      "text/plain": [
       "   index                          Website                domain\n",
       "0      0             http://www.amaya.biz             amaya.biz\n",
       "1      1     http://www.toppokervalue.com     toppokervalue.com\n",
       "2      2         http://www.segurobet.com         segurobet.com\n",
       "3      3  http://www.pokerexpertguide.com  pokerexpertguide.com\n",
       "4      4             http://www.senava.ch             senava.ch"
      ]
     },
     "execution_count": 4,
     "metadata": {},
     "output_type": "execute_result"
    }
   ],
   "source": [
    "empresas = get_domains('../data/poker.csv')\n",
    "empresas.head()"
   ]
  },
  {
   "cell_type": "code",
   "execution_count": 12,
   "id": "e18f858f",
   "metadata": {},
   "outputs": [],
   "source": [
    "def run(empresas): \n",
    "    os.system('nordvpn d')\n",
    "    \n",
    "    check_df = pd.read_csv('../data/poker_info.csv', index_col=0)\n",
    "    last_comp_idx = empresas[empresas.domain == check_df.iloc[-1].company_name].index[0]\n",
    "    \n",
    "    tries = 0\n",
    "    for i in range(last_comp_idx, empresas.shape[0]):\n",
    "        if tries < 10:\n",
    "            try:\n",
    "                domain = empresas.domain[i]\n",
    "                df = pd.read_csv('../data/poker_info.csv', index_col=0)\n",
    "                new_df = pd.concat([df, get_info(domain)], ignore_index=True)\n",
    "                new_df.to_csv('../data/poker_info.csv')\n",
    "            except IndexError:\n",
    "                tries += 1\n",
    "                print(f'Erro: {tries}')\n",
    "                sleep(60)\n",
    "                continue\n",
    "                \n",
    "        elif 10 <= tries < 30 :\n",
    "            \n",
    "            countries = ['Albania','Greece','Portugal','Argentina','Hong_Kong','Romania','Australia','Hungary','Serbia',\n",
    "             'Austria','Iceland','Singapore','Belgium','Indonesia','Slovakia','Bosnia_And_Herzegovina','Ireland',\n",
    "             'Slovenia','Brazil','Israel','South_Africa','Bulgaria','Italy','South_Korea','Canada','Japan','Spain',\n",
    "             'Chile','Latvia','Sweden','Costa_Rica','Lithuania','Switzerland','Croatia','Luxembourg','Taiwan',\n",
    "             'Cyprus','Malaysia','Thailand','Czech_Republic','Mexico','Turkey','Denmark','Moldova','Ukraine',\n",
    "             'Estonia','Netherlands','United_Kingdom','Finland','New_Zealand','United_States','France',\n",
    "             'North_Macedonia','Vietnam','Georgia','Norway','Germany','Poland']\n",
    "            \n",
    "            country = choice(countries)\n",
    "            os.system(f'nordvpn c {country}> /dev/null 2>&1')\n",
    "            \n",
    "            try:\n",
    "                domain = empresas.domain[i]\n",
    "                df = pd.read_csv('../data/poker_info.csv', index_col=0)\n",
    "                new_df = pd.concat([df, get_info(domain)], ignore_index=True)\n",
    "                new_df.to_csv('../data/poker_info.csv')\n",
    "            except IndexError:\n",
    "                tries += 1\n",
    "                print(f'Erro: {tries}')\n",
    "                sleep(10)\n",
    "                continue\n",
    "        else:\n",
    "            break\n",
    "            \n",
    "    return 'Done'"
   ]
  }
 ],
 "metadata": {
  "kernelspec": {
   "display_name": "Python 3 (ipykernel)",
   "language": "python",
   "name": "python3"
  },
  "language_info": {
   "codemirror_mode": {
    "name": "ipython",
    "version": 3
   },
   "file_extension": ".py",
   "mimetype": "text/x-python",
   "name": "python",
   "nbconvert_exporter": "python",
   "pygments_lexer": "ipython3",
   "version": "3.10.6"
  }
 },
 "nbformat": 4,
 "nbformat_minor": 5
}
