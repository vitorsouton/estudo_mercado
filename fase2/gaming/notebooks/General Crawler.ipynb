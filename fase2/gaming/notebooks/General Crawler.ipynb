{
 "cells": [
  {
   "cell_type": "code",
   "execution_count": 1,
   "id": "c6b22344",
   "metadata": {},
   "outputs": [],
   "source": [
    "import requests\n",
    "import pandas as pd\n",
    "\n",
    "from bs4 import BeautifulSoup\n",
    "from fake_useragent import UserAgent"
   ]
  },
  {
   "cell_type": "code",
   "execution_count": 41,
   "id": "8bff7aab",
   "metadata": {},
   "outputs": [],
   "source": [
    "ua = UserAgent()\n",
    "user_agent = ua.random\n",
    "comps = []"
   ]
  },
  {
   "cell_type": "code",
   "execution_count": 62,
   "id": "ca77eece",
   "metadata": {},
   "outputs": [],
   "source": [
    "# segment = 'dota2-gambling-sites'\n",
    "# url = f'https://skinlords.com/csgo-gambling-sites/{segment}'\n",
    "url = 'https://csgobettings.com/'\n",
    "\n",
    "res = requests.get(url, headers={'User-Agent': user_agent})\n",
    "soup = BeautifulSoup(res.content, 'html.parser')\n",
    "# sites = soup.find_all('div', attrs={'class': 'space-companies-archive-item-title relative'})\n",
    "for site in soup.find_all('div', attrs={'class': 'space-casinos-7-archive-item-logo-title-wrap box-100 relative'}):\n",
    "    sites.append(site)"
   ]
  },
  {
   "cell_type": "code",
   "execution_count": 63,
   "id": "bf83f48b",
   "metadata": {},
   "outputs": [
    {
     "data": {
      "text/plain": [
       "77"
      ]
     },
     "execution_count": 63,
     "metadata": {},
     "output_type": "execute_result"
    }
   ],
   "source": [
    "for site in sites:\n",
    "    comps.append(site.text.replace('\\n', ''))\n",
    "    \n",
    "comps = list(set(comps))\n",
    "len(comps)"
   ]
  },
  {
   "cell_type": "code",
   "execution_count": 64,
   "id": "14db4b6d",
   "metadata": {
    "scrolled": true
   },
   "outputs": [
    {
     "data": {
      "text/plain": [
       "['RustReaper',\n",
       " 'Thunderpick',\n",
       " 'Hellcase',\n",
       " 'Givedrop',\n",
       " 'Betway Esports',\n",
       " 'Duelbits',\n",
       " 'CSGOLive',\n",
       " 'FarmSkins',\n",
       " 'SkinSwap',\n",
       " '7Bit Casino',\n",
       " 'CSDeals',\n",
       " 'Roobet',\n",
       " 'Farmskins',\n",
       " 'Skins.Cash',\n",
       " 'iTrade GG',\n",
       " 'RustyPot',\n",
       " 'CSGOSelly',\n",
       " 'SkinBet',\n",
       " 'Bovada',\n",
       " 'RustCases',\n",
       " 'LootFarm',\n",
       " 'TradeSkinsFast',\n",
       " 'InsaneGG',\n",
       " 'DMarket',\n",
       " 'DaddySkins',\n",
       " 'Datdrop',\n",
       " 'SkinCashier',\n",
       " 'SwapGG',\n",
       " 'CSMoney',\n",
       " 'BitSkins',\n",
       " 'Bounty',\n",
       " 'CSGOFast',\n",
       " 'HowlGG',\n",
       " 'WTFSkins',\n",
       " 'DatDrop',\n",
       " 'Loot.bet',\n",
       " 'CSGOExo',\n",
       " 'BanditCamp',\n",
       " 'KnifeX',\n",
       " 'CSGOPolygon',\n",
       " 'PvPro',\n",
       " 'Fairspin',\n",
       " 'FlameCases',\n",
       " '500 Casino',\n",
       " 'Caserandom',\n",
       " 'RustMoment',\n",
       " 'mBit Casino',\n",
       " 'j9 Casino',\n",
       " 'Arcanebet',\n",
       " 'ShadowPay',\n",
       " 'RustClash',\n",
       " 'Rollbit',\n",
       " 'RustyTrade',\n",
       " 'Skinport',\n",
       " 'Knifex',\n",
       " 'TradeIt',\n",
       " 'RustBet',\n",
       " 'Helltv.store',\n",
       " 'CSGOEmpire',\n",
       " 'RustStake',\n",
       " 'CSTrade',\n",
       " 'Waxpeer',\n",
       " 'RustChance',\n",
       " 'RustySaloon',\n",
       " 'Gamdom',\n",
       " 'SkinsMonkey',\n",
       " 'EZY',\n",
       " 'SellYourSkins',\n",
       " 'GGBet',\n",
       " 'HellStore',\n",
       " 'LootBear',\n",
       " 'Casedrop',\n",
       " 'Key-Drop',\n",
       " 'Buff.bet (Galaxy.bet)',\n",
       " 'CSGORoll',\n",
       " 'CSGO500',\n",
       " 'CSGOPositive']"
      ]
     },
     "execution_count": 64,
     "metadata": {},
     "output_type": "execute_result"
    }
   ],
   "source": [
    "comps"
   ]
  }
 ],
 "metadata": {
  "kernelspec": {
   "display_name": "Python 3 (ipykernel)",
   "language": "python",
   "name": "python3"
  },
  "language_info": {
   "codemirror_mode": {
    "name": "ipython",
    "version": 3
   },
   "file_extension": ".py",
   "mimetype": "text/x-python",
   "name": "python",
   "nbconvert_exporter": "python",
   "pygments_lexer": "ipython3",
   "version": "3.10.6"
  }
 },
 "nbformat": 4,
 "nbformat_minor": 5
}
