{
 "cells": [
  {
   "cell_type": "markdown",
   "id": "7f303a76",
   "metadata": {},
   "source": [
    "# Fontes\n",
    "\n",
    "* https://www.imarcgroup.com/travel-technology-market\n",
    "* https://www.statista.com/"
   ]
  },
  {
   "cell_type": "markdown",
   "id": "4df5b45f",
   "metadata": {},
   "source": [
    "# Tamanho global\n",
    "\n",
    "* Market size: USD 8.6bi em 2021, expectativa de USD 13.4bi em 2027 (exclusivamente travel techs)\n",
    "    1. O maior revenue deste mercado ainda vem do transporte e inovações por parte das companhias aéreas.\n",
    "    2. A tendência de investimentos no setor esta migrando para Corporate Travel e Credit Card Expenses\n",
    "\n",
    "\n",
    "    \n",
    "* Principais players: Booking (Booking.com; Priceline.com; Agoda.com; Rentalcars.com), TripAdvisor, Expedia (Hotels.com; Trivago; CarRentals.com; Expedia), Kayak, MakeMyTrip, AirBnb (Gig-economy), CouchSurfing (Gig-economy)"
   ]
  },
  {
   "cell_type": "markdown",
   "id": "e82014b1",
   "metadata": {},
   "source": [
    "# Tamanho Brasil\n",
    "\n",
    "* Market size: Juntando estimativas de transação, já que as empresas possuem capital fechado, USD 850mi em 2022\n",
    "    1. O principal subsetor no Brasil é o de mobilidade (123 milhas, Grupo 99, Smiles)\n",
    "  \n",
    "\n",
    "* Principais players: AirBnb, Grupo 99, OTA Viajanet, Hurb, Maxmilhas, 123 Milhas, Buser, Booking.com, TripAdvisor, Trivago, Decolar.com, Onfly, Smiles\n"
   ]
  },
  {
   "cell_type": "markdown",
   "id": "7c7dac1a",
   "metadata": {},
   "source": [
    "# Perspectiva de crescimento no Brasil\n",
    "\n",
    "* O mercado de turismo foi um dos principais afetados pela pandemia, portanto está em processo de re-estruturação. \n",
    "* O brasileiro que viaja ainda prefere planejar através de agências de turismo com pacote fechado. Este fato retira uma fatia considerável do mercado de travel techs."
   ]
  }
 ],
 "metadata": {
  "kernelspec": {
   "display_name": "Python 3 (ipykernel)",
   "language": "python",
   "name": "python3"
  },
  "language_info": {
   "codemirror_mode": {
    "name": "ipython",
    "version": 3
   },
   "file_extension": ".py",
   "mimetype": "text/x-python",
   "name": "python",
   "nbconvert_exporter": "python",
   "pygments_lexer": "ipython3",
   "version": "3.10.6"
  }
 },
 "nbformat": 4,
 "nbformat_minor": 5
}
