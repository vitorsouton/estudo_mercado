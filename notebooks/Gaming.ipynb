{
 "cells": [
  {
   "cell_type": "markdown",
   "id": "195393df",
   "metadata": {},
   "source": [
    "# Fontes\n",
    "\n",
    "* https://www.weforum.org/agenda/2022/07/gaming-pandemic-lockdowns-pwc-growth/"
   ]
  },
  {
   "cell_type": "markdown",
   "id": "27d02495",
   "metadata": {},
   "source": [
    "# Tamanho global"
   ]
  },
  {
   "cell_type": "markdown",
   "id": "0d30fe0a",
   "metadata": {},
   "source": [
    "# Tamanho Brasil"
   ]
  },
  {
   "cell_type": "markdown",
   "id": "b4389c48",
   "metadata": {},
   "source": [
    "# Perspectiva Brasil"
   ]
  }
 ],
 "metadata": {
  "kernelspec": {
   "display_name": "Python 3 (ipykernel)",
   "language": "python",
   "name": "python3"
  },
  "language_info": {
   "codemirror_mode": {
    "name": "ipython",
    "version": 3
   },
   "file_extension": ".py",
   "mimetype": "text/x-python",
   "name": "python",
   "nbconvert_exporter": "python",
   "pygments_lexer": "ipython3",
   "version": "3.10.6"
  }
 },
 "nbformat": 4,
 "nbformat_minor": 5
}
