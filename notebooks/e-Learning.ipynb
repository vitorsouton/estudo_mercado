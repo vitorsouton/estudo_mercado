{
 "cells": [
  {
   "cell_type": "markdown",
   "id": "5b66e9da",
   "metadata": {},
   "source": [
    "## Fontes:\n",
    "\n",
    "* https://straitsresearch.com/report/e-learning-market/"
   ]
  },
  {
   "cell_type": "markdown",
   "id": "5aab7fa7",
   "metadata": {},
   "source": [
    "# Tamanho global\n",
    "\n",
    "* Market size: USD 215bi, em 2021. Estimativa de USD 645bi, em 2030.\n",
    "\n",
    "\n",
    "* Principais players: Coursera, Udemy, Skillshare, MasterClass, EdX, Udacity, Pluralsight\n",
    "\n",
    "\n",
    "* O mercado global ainda está bem fragmentado, com muita competição e players ainda se consolidando."
   ]
  },
  {
   "cell_type": "markdown",
   "id": "7cf72a93",
   "metadata": {},
   "source": [
    "# Tamanho Brasil\n",
    "\n",
    "* "
   ]
  }
 ],
 "metadata": {
  "kernelspec": {
   "display_name": "Python 3 (ipykernel)",
   "language": "python",
   "name": "python3"
  },
  "language_info": {
   "codemirror_mode": {
    "name": "ipython",
    "version": 3
   },
   "file_extension": ".py",
   "mimetype": "text/x-python",
   "name": "python",
   "nbconvert_exporter": "python",
   "pygments_lexer": "ipython3",
   "version": "3.10.6"
  }
 },
 "nbformat": 4,
 "nbformat_minor": 5
}
