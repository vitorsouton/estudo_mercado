{
 "cells": [
  {
   "cell_type": "markdown",
   "id": "92bdb5da",
   "metadata": {},
   "source": [
    "# Prep"
   ]
  },
  {
   "cell_type": "code",
   "execution_count": 1,
   "id": "c29b5450",
   "metadata": {},
   "outputs": [],
   "source": [
    "import numpy as np\n",
    "import pandas as pd\n",
    "\n",
    "from utils.utils import get_info"
   ]
  },
  {
   "cell_type": "code",
   "execution_count": 7,
   "id": "568164b1",
   "metadata": {},
   "outputs": [],
   "source": [
    "df = pd.read_csv('../../fase2/apostas/data/empresas_br.csv', index_col=0)"
   ]
  },
  {
   "cell_type": "code",
   "execution_count": 8,
   "id": "922650da",
   "metadata": {},
   "outputs": [
    {
     "data": {
      "text/plain": [
       "(54, 13)"
      ]
     },
     "execution_count": 8,
     "metadata": {},
     "output_type": "execute_result"
    }
   ],
   "source": [
    "df = df.drop_duplicates()\n",
    "df.shape"
   ]
  },
  {
   "cell_type": "code",
   "execution_count": 11,
   "id": "4994b97c",
   "metadata": {},
   "outputs": [
    {
     "data": {
      "text/plain": [
       "array(['South Africa', 'Malta', 'Philippines', 'Italy', 'No info',\n",
       "       'United Kingdom', 'Cyprus', 'Australia', 'Mexico', 'Portugal',\n",
       "       'Estonia', 'United States', 'Belarus', 'Germany', 'Bulgaria',\n",
       "       'Canada', 'Hungary', 'Greece', 'Isle of Man', 'Curaçao', 'India',\n",
       "       'Brazil', 'Cook Islands'], dtype=object)"
      ]
     },
     "execution_count": 11,
     "metadata": {},
     "output_type": "execute_result"
    }
   ],
   "source": [
    "df.hq_country = df.hq_country.replace('- -', 'No info')\n",
    "df.hq_country.unique()"
   ]
  },
  {
   "cell_type": "code",
   "execution_count": 15,
   "id": "6efad07e",
   "metadata": {},
   "outputs": [],
   "source": [
    "df['processadoras'] = [0] * df.shape[0]"
   ]
  },
  {
   "cell_type": "code",
   "execution_count": 17,
   "id": "7852feef",
   "metadata": {},
   "outputs": [
    {
     "data": {
      "text/plain": [
       "array(['sunbet.co.za', 'marsbet.com', 'playsqr.com', 'goldbet.it',\n",
       "       'slotvibe.com', 'goldenrace.com', 'tempobet.com',\n",
       "       'thefootytipster.com', 'softgamings.com', 'moneyball.com.au',\n",
       "       'ganabet.mx', 'olbg.com', 'apostaganha.com', 'yolo.com',\n",
       "       'royalvegascasino.com', 'winadaycasino.eu', 'caesarscasino.com',\n",
       "       'betting.com', '10bet.com', 'slotegrator.pro', 'betano.com',\n",
       "       'tipbet.com', 'efbet.net', 'bet365.com', 'metalcasino.com',\n",
       "       'bodog.com', 'marathonbet.co.uk', 'vegas.hu', '777.com',\n",
       "       'jetbull.com', 'betssongroupaffiliates.com', 'parimatch.com',\n",
       "       'amuletobet.com', 'stoiximan.gr', 'sbtech.com', 'segurobet.com',\n",
       "       'americascardroom.eu', 'pokerstars.com', 'pokerking.com',\n",
       "       'spartanpoker.com', 'wptglobal.com', 'sportingbet.com',\n",
       "       'betfair.com', 'pixbet.com', 'estrelabet.com', 'betnacional.com',\n",
       "       'kto.com', 'marjosports.com', 'betway.com', 'betsul.com',\n",
       "       'betmotion.com', 'sportsbet.io', '1xbet.com', 'galera.bet'],\n",
       "      dtype=object)"
      ]
     },
     "execution_count": 17,
     "metadata": {},
     "output_type": "execute_result"
    }
   ],
   "source": [
    "df.company_name.unique()"
   ]
  },
  {
   "cell_type": "code",
   "execution_count": 25,
   "id": "07700933",
   "metadata": {},
   "outputs": [
    {
     "data": {
      "text/html": [
       "<div>\n",
       "<style scoped>\n",
       "    .dataframe tbody tr th:only-of-type {\n",
       "        vertical-align: middle;\n",
       "    }\n",
       "\n",
       "    .dataframe tbody tr th {\n",
       "        vertical-align: top;\n",
       "    }\n",
       "\n",
       "    .dataframe thead th {\n",
       "        text-align: right;\n",
       "    }\n",
       "</style>\n",
       "<table border=\"1\" class=\"dataframe\">\n",
       "  <thead>\n",
       "    <tr style=\"text-align: right;\">\n",
       "      <th></th>\n",
       "      <th>company_name</th>\n",
       "      <th>brazilian_visitors</th>\n",
       "      <th>hq_country</th>\n",
       "      <th>bounce_rate</th>\n",
       "      <th>visit_duration</th>\n",
       "      <th>male</th>\n",
       "      <th>female</th>\n",
       "      <th>18-24</th>\n",
       "      <th>25-34</th>\n",
       "      <th>35-44</th>\n",
       "      <th>45-54</th>\n",
       "      <th>55-64</th>\n",
       "      <th>65+</th>\n",
       "      <th>processadoras</th>\n",
       "    </tr>\n",
       "  </thead>\n",
       "  <tbody>\n",
       "    <tr>\n",
       "      <th>0</th>\n",
       "      <td>sunbet.co.za</td>\n",
       "      <td>2932</td>\n",
       "      <td>South Africa</td>\n",
       "      <td>0.445</td>\n",
       "      <td>11.0</td>\n",
       "      <td>0.563</td>\n",
       "      <td>0.437</td>\n",
       "      <td>0.174</td>\n",
       "      <td>0.295</td>\n",
       "      <td>0.191</td>\n",
       "      <td>0.149</td>\n",
       "      <td>0.103</td>\n",
       "      <td>0.088</td>\n",
       "      <td>0</td>\n",
       "    </tr>\n",
       "    <tr>\n",
       "      <th>1</th>\n",
       "      <td>marsbet.com</td>\n",
       "      <td>114502</td>\n",
       "      <td>Malta</td>\n",
       "      <td>0.378</td>\n",
       "      <td>8.0</td>\n",
       "      <td>0.569</td>\n",
       "      <td>0.431</td>\n",
       "      <td>0.251</td>\n",
       "      <td>0.331</td>\n",
       "      <td>0.188</td>\n",
       "      <td>0.113</td>\n",
       "      <td>0.077</td>\n",
       "      <td>0.040</td>\n",
       "      <td>Astropay</td>\n",
       "    </tr>\n",
       "    <tr>\n",
       "      <th>2</th>\n",
       "      <td>playsqr.com</td>\n",
       "      <td>9175</td>\n",
       "      <td>Philippines</td>\n",
       "      <td>0.961</td>\n",
       "      <td>0.0</td>\n",
       "      <td>0.562</td>\n",
       "      <td>0.438</td>\n",
       "      <td>0.253</td>\n",
       "      <td>0.335</td>\n",
       "      <td>0.192</td>\n",
       "      <td>0.110</td>\n",
       "      <td>0.074</td>\n",
       "      <td>0.036</td>\n",
       "      <td>0</td>\n",
       "    </tr>\n",
       "    <tr>\n",
       "      <th>3</th>\n",
       "      <td>goldbet.it</td>\n",
       "      <td>1080</td>\n",
       "      <td>Italy</td>\n",
       "      <td>0.242</td>\n",
       "      <td>13.0</td>\n",
       "      <td>0.838</td>\n",
       "      <td>0.162</td>\n",
       "      <td>0.207</td>\n",
       "      <td>0.253</td>\n",
       "      <td>0.217</td>\n",
       "      <td>0.174</td>\n",
       "      <td>0.090</td>\n",
       "      <td>0.059</td>\n",
       "      <td>0</td>\n",
       "    </tr>\n",
       "    <tr>\n",
       "      <th>4</th>\n",
       "      <td>slotvibe.com</td>\n",
       "      <td>11658</td>\n",
       "      <td>No info</td>\n",
       "      <td>0.491</td>\n",
       "      <td>3.0</td>\n",
       "      <td>0.554</td>\n",
       "      <td>0.446</td>\n",
       "      <td>0.183</td>\n",
       "      <td>0.303</td>\n",
       "      <td>0.217</td>\n",
       "      <td>0.145</td>\n",
       "      <td>0.099</td>\n",
       "      <td>0.053</td>\n",
       "      <td>0</td>\n",
       "    </tr>\n",
       "  </tbody>\n",
       "</table>\n",
       "</div>"
      ],
      "text/plain": [
       "   company_name  brazilian_visitors    hq_country  bounce_rate  \\\n",
       "0  sunbet.co.za                2932  South Africa        0.445   \n",
       "1   marsbet.com              114502         Malta        0.378   \n",
       "2   playsqr.com                9175   Philippines        0.961   \n",
       "3    goldbet.it                1080         Italy        0.242   \n",
       "4  slotvibe.com               11658       No info        0.491   \n",
       "\n",
       "   visit_duration   male  female  18-24  25-34  35-44  45-54  55-64    65+  \\\n",
       "0            11.0  0.563   0.437  0.174  0.295  0.191  0.149  0.103  0.088   \n",
       "1             8.0  0.569   0.431  0.251  0.331  0.188  0.113  0.077  0.040   \n",
       "2             0.0  0.562   0.438  0.253  0.335  0.192  0.110  0.074  0.036   \n",
       "3            13.0  0.838   0.162  0.207  0.253  0.217  0.174  0.090  0.059   \n",
       "4             3.0  0.554   0.446  0.183  0.303  0.217  0.145  0.099  0.053   \n",
       "\n",
       "  processadoras  \n",
       "0             0  \n",
       "1      Astropay  \n",
       "2             0  \n",
       "3             0  \n",
       "4             0  "
      ]
     },
     "execution_count": 25,
     "metadata": {},
     "output_type": "execute_result"
    }
   ],
   "source": [
    "df.loc[1, 'processadoras'] = 'Astropay'\n",
    "df.head()"
   ]
  }
 ],
 "metadata": {
  "kernelspec": {
   "display_name": "Python 3 (ipykernel)",
   "language": "python",
   "name": "python3"
  },
  "language_info": {
   "codemirror_mode": {
    "name": "ipython",
    "version": 3
   },
   "file_extension": ".py",
   "mimetype": "text/x-python",
   "name": "python",
   "nbconvert_exporter": "python",
   "pygments_lexer": "ipython3",
   "version": "3.10.6"
  },
  "toc": {
   "base_numbering": 1,
   "nav_menu": {},
   "number_sections": true,
   "sideBar": true,
   "skip_h1_title": false,
   "title_cell": "Table of Contents",
   "title_sidebar": "Contents",
   "toc_cell": false,
   "toc_position": {},
   "toc_section_display": true,
   "toc_window_display": false
  },
  "varInspector": {
   "cols": {
    "lenName": 16,
    "lenType": 16,
    "lenVar": 40
   },
   "kernels_config": {
    "python": {
     "delete_cmd_postfix": "",
     "delete_cmd_prefix": "del ",
     "library": "var_list.py",
     "varRefreshCmd": "print(var_dic_list())"
    },
    "r": {
     "delete_cmd_postfix": ") ",
     "delete_cmd_prefix": "rm(",
     "library": "var_list.r",
     "varRefreshCmd": "cat(var_dic_list()) "
    }
   },
   "types_to_exclude": [
    "module",
    "function",
    "builtin_function_or_method",
    "instance",
    "_Feature"
   ],
   "window_display": false
  }
 },
 "nbformat": 4,
 "nbformat_minor": 5
}
