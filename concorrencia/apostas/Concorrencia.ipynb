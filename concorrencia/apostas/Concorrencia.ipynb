{
 "cells": [
  {
   "cell_type": "markdown",
   "id": "92bdb5da",
   "metadata": {},
   "source": [
    "# Prep"
   ]
  },
  {
   "cell_type": "code",
   "execution_count": 18,
   "id": "c29b5450",
   "metadata": {},
   "outputs": [],
   "source": [
    "import numpy as np\n",
    "import pandas as pd\n",
    "\n",
    "from utils.utils import get_info"
   ]
  },
  {
   "cell_type": "code",
   "execution_count": 30,
   "id": "81aa4095",
   "metadata": {},
   "outputs": [],
   "source": [
    "df_a = pd.read_csv('../../fase2/apostas/data/apostas_info.csv', index_col=0)\n",
    "df_p = pd.read_csv('../../fase2/apostas/data/poker_info.csv', index_col=0)"
   ]
  },
  {
   "cell_type": "code",
   "execution_count": 31,
   "id": "3711ffcd",
   "metadata": {},
   "outputs": [
    {
     "data": {
      "text/html": [
       "<div>\n",
       "<style scoped>\n",
       "    .dataframe tbody tr th:only-of-type {\n",
       "        vertical-align: middle;\n",
       "    }\n",
       "\n",
       "    .dataframe tbody tr th {\n",
       "        vertical-align: top;\n",
       "    }\n",
       "\n",
       "    .dataframe thead th {\n",
       "        text-align: right;\n",
       "    }\n",
       "</style>\n",
       "<table border=\"1\" class=\"dataframe\">\n",
       "  <thead>\n",
       "    <tr style=\"text-align: right;\">\n",
       "      <th></th>\n",
       "      <th>company_name</th>\n",
       "      <th>brazilian_visitors</th>\n",
       "      <th>hq_country</th>\n",
       "      <th>bounce_rate</th>\n",
       "      <th>visit_duration</th>\n",
       "      <th>male</th>\n",
       "      <th>female</th>\n",
       "      <th>18-24</th>\n",
       "      <th>25-34</th>\n",
       "      <th>35-44</th>\n",
       "      <th>45-54</th>\n",
       "      <th>55-64</th>\n",
       "      <th>65+</th>\n",
       "    </tr>\n",
       "  </thead>\n",
       "  <tbody>\n",
       "    <tr>\n",
       "      <th>0</th>\n",
       "      <td>mansion.com</td>\n",
       "      <td>-1</td>\n",
       "      <td>Gibraltar</td>\n",
       "      <td>0.828</td>\n",
       "      <td>0.0</td>\n",
       "      <td>0.640</td>\n",
       "      <td>0.360</td>\n",
       "      <td>0.223</td>\n",
       "      <td>0.295</td>\n",
       "      <td>0.193</td>\n",
       "      <td>0.135</td>\n",
       "      <td>0.093</td>\n",
       "      <td>0.061</td>\n",
       "    </tr>\n",
       "    <tr>\n",
       "      <th>1</th>\n",
       "      <td>worldsportsbetting.co.za</td>\n",
       "      <td>-1</td>\n",
       "      <td>South Africa</td>\n",
       "      <td>0.262</td>\n",
       "      <td>16.0</td>\n",
       "      <td>0.665</td>\n",
       "      <td>0.335</td>\n",
       "      <td>0.239</td>\n",
       "      <td>0.333</td>\n",
       "      <td>0.201</td>\n",
       "      <td>0.117</td>\n",
       "      <td>0.063</td>\n",
       "      <td>0.048</td>\n",
       "    </tr>\n",
       "    <tr>\n",
       "      <th>2</th>\n",
       "      <td>merrybet.com</td>\n",
       "      <td>-1</td>\n",
       "      <td>Nigeria</td>\n",
       "      <td>0.165</td>\n",
       "      <td>12.0</td>\n",
       "      <td>0.728</td>\n",
       "      <td>0.272</td>\n",
       "      <td>0.164</td>\n",
       "      <td>0.343</td>\n",
       "      <td>0.220</td>\n",
       "      <td>0.138</td>\n",
       "      <td>0.085</td>\n",
       "      <td>0.049</td>\n",
       "    </tr>\n",
       "    <tr>\n",
       "      <th>3</th>\n",
       "      <td>sunbet.co.za</td>\n",
       "      <td>2932</td>\n",
       "      <td>South Africa</td>\n",
       "      <td>0.445</td>\n",
       "      <td>11.0</td>\n",
       "      <td>0.563</td>\n",
       "      <td>0.437</td>\n",
       "      <td>0.174</td>\n",
       "      <td>0.295</td>\n",
       "      <td>0.191</td>\n",
       "      <td>0.149</td>\n",
       "      <td>0.103</td>\n",
       "      <td>0.088</td>\n",
       "    </tr>\n",
       "    <tr>\n",
       "      <th>4</th>\n",
       "      <td>queenvegas.com</td>\n",
       "      <td>-1</td>\n",
       "      <td>Malta</td>\n",
       "      <td>0.120</td>\n",
       "      <td>3.0</td>\n",
       "      <td>0.567</td>\n",
       "      <td>0.433</td>\n",
       "      <td>0.153</td>\n",
       "      <td>0.305</td>\n",
       "      <td>0.202</td>\n",
       "      <td>0.160</td>\n",
       "      <td>0.111</td>\n",
       "      <td>0.070</td>\n",
       "    </tr>\n",
       "  </tbody>\n",
       "</table>\n",
       "</div>"
      ],
      "text/plain": [
       "               company_name  brazilian_visitors    hq_country  bounce_rate  \\\n",
       "0               mansion.com                  -1     Gibraltar        0.828   \n",
       "1  worldsportsbetting.co.za                  -1  South Africa        0.262   \n",
       "2              merrybet.com                  -1       Nigeria        0.165   \n",
       "3              sunbet.co.za                2932  South Africa        0.445   \n",
       "4            queenvegas.com                  -1         Malta        0.120   \n",
       "\n",
       "   visit_duration   male  female  18-24  25-34  35-44  45-54  55-64    65+  \n",
       "0             0.0  0.640   0.360  0.223  0.295  0.193  0.135  0.093  0.061  \n",
       "1            16.0  0.665   0.335  0.239  0.333  0.201  0.117  0.063  0.048  \n",
       "2            12.0  0.728   0.272  0.164  0.343  0.220  0.138  0.085  0.049  \n",
       "3            11.0  0.563   0.437  0.174  0.295  0.191  0.149  0.103  0.088  \n",
       "4             3.0  0.567   0.433  0.153  0.305  0.202  0.160  0.111  0.070  "
      ]
     },
     "execution_count": 31,
     "metadata": {},
     "output_type": "execute_result"
    }
   ],
   "source": [
    "df = pd.concat([df_a, df_p], ignore_index=True)\n",
    "df.head()"
   ]
  },
  {
   "cell_type": "code",
   "execution_count": 33,
   "id": "1f9028d0",
   "metadata": {},
   "outputs": [
    {
     "data": {
      "text/plain": [
       "(41, 13)"
      ]
     },
     "execution_count": 33,
     "metadata": {},
     "output_type": "execute_result"
    }
   ],
   "source": [
    "df = df.drop_duplicates()\n",
    "df_brazil = df[df.brazilian_visitors != -1]\n",
    "df_brazil.shape"
   ]
  },
  {
   "cell_type": "code",
   "execution_count": 34,
   "id": "211159d4",
   "metadata": {},
   "outputs": [
    {
     "data": {
      "text/html": [
       "<div>\n",
       "<style scoped>\n",
       "    .dataframe tbody tr th:only-of-type {\n",
       "        vertical-align: middle;\n",
       "    }\n",
       "\n",
       "    .dataframe tbody tr th {\n",
       "        vertical-align: top;\n",
       "    }\n",
       "\n",
       "    .dataframe thead th {\n",
       "        text-align: right;\n",
       "    }\n",
       "</style>\n",
       "<table border=\"1\" class=\"dataframe\">\n",
       "  <thead>\n",
       "    <tr style=\"text-align: right;\">\n",
       "      <th></th>\n",
       "      <th>company_name</th>\n",
       "      <th>brazilian_visitors</th>\n",
       "      <th>hq_country</th>\n",
       "      <th>bounce_rate</th>\n",
       "      <th>visit_duration</th>\n",
       "      <th>male</th>\n",
       "      <th>female</th>\n",
       "      <th>18-24</th>\n",
       "      <th>25-34</th>\n",
       "      <th>35-44</th>\n",
       "      <th>45-54</th>\n",
       "      <th>55-64</th>\n",
       "      <th>65+</th>\n",
       "    </tr>\n",
       "  </thead>\n",
       "  <tbody>\n",
       "    <tr>\n",
       "      <th>0</th>\n",
       "      <td>sportingbet.com</td>\n",
       "      <td>7360080</td>\n",
       "      <td>United Kingdom</td>\n",
       "      <td>0.279</td>\n",
       "      <td>16</td>\n",
       "      <td>0.605</td>\n",
       "      <td>0.395</td>\n",
       "      <td>0.209</td>\n",
       "      <td>0.317</td>\n",
       "      <td>0.204</td>\n",
       "      <td>0.133</td>\n",
       "      <td>0.094</td>\n",
       "      <td>0.043</td>\n",
       "    </tr>\n",
       "  </tbody>\n",
       "</table>\n",
       "</div>"
      ],
      "text/plain": [
       "      company_name  brazilian_visitors      hq_country  bounce_rate  \\\n",
       "0  sportingbet.com             7360080  United Kingdom        0.279   \n",
       "\n",
       "   visit_duration   male  female  18-24  25-34  35-44  45-54  55-64    65+  \n",
       "0              16  0.605   0.395  0.209  0.317  0.204  0.133  0.094  0.043  "
      ]
     },
     "execution_count": 34,
     "metadata": {},
     "output_type": "execute_result"
    }
   ],
   "source": [
    "spbet = get_info('sportingbet.com')\n",
    "spbet"
   ]
  },
  {
   "cell_type": "code",
   "execution_count": 35,
   "id": "57a35d76",
   "metadata": {},
   "outputs": [],
   "source": [
    "df_brazil = pd.concat([df_brazil, spbet, new], ignore_index=True)"
   ]
  },
  {
   "cell_type": "code",
   "execution_count": 38,
   "id": "946769c1",
   "metadata": {
    "scrolled": true
   },
   "outputs": [],
   "source": [
    "df_brazil.to_csv('../../fase2/apostas/data/empresas_br.csv')"
   ]
  },
  {
   "cell_type": "code",
   "execution_count": 39,
   "id": "07cafe68",
   "metadata": {},
   "outputs": [],
   "source": [
    "df_brazil = df_brazil.drop_duplicates().dropna()"
   ]
  },
  {
   "cell_type": "code",
   "execution_count": 42,
   "id": "6bd19cdb",
   "metadata": {},
   "outputs": [],
   "source": [
    "df_brazil.hq_country = df_brazil.hq_country.replace('- -', 'No info')"
   ]
  },
  {
   "cell_type": "code",
   "execution_count": 45,
   "id": "dc46f4b3",
   "metadata": {},
   "outputs": [
    {
     "data": {
      "text/plain": [
       "(50, 13)"
      ]
     },
     "execution_count": 45,
     "metadata": {},
     "output_type": "execute_result"
    }
   ],
   "source": [
    "df_foreign = df_brazil[df_brazil.hq_country != 'Brazil']\n",
    "df_foreign.shape"
   ]
  },
  {
   "cell_type": "code",
   "execution_count": null,
   "id": "568164b1",
   "metadata": {},
   "outputs": [],
   "source": []
  }
 ],
 "metadata": {
  "kernelspec": {
   "display_name": "Python 3 (ipykernel)",
   "language": "python",
   "name": "python3"
  },
  "language_info": {
   "codemirror_mode": {
    "name": "ipython",
    "version": 3
   },
   "file_extension": ".py",
   "mimetype": "text/x-python",
   "name": "python",
   "nbconvert_exporter": "python",
   "pygments_lexer": "ipython3",
   "version": "3.10.6"
  },
  "toc": {
   "base_numbering": 1,
   "nav_menu": {},
   "number_sections": true,
   "sideBar": true,
   "skip_h1_title": false,
   "title_cell": "Table of Contents",
   "title_sidebar": "Contents",
   "toc_cell": false,
   "toc_position": {},
   "toc_section_display": true,
   "toc_window_display": false
  },
  "varInspector": {
   "cols": {
    "lenName": 16,
    "lenType": 16,
    "lenVar": 40
   },
   "kernels_config": {
    "python": {
     "delete_cmd_postfix": "",
     "delete_cmd_prefix": "del ",
     "library": "var_list.py",
     "varRefreshCmd": "print(var_dic_list())"
    },
    "r": {
     "delete_cmd_postfix": ") ",
     "delete_cmd_prefix": "rm(",
     "library": "var_list.r",
     "varRefreshCmd": "cat(var_dic_list()) "
    }
   },
   "types_to_exclude": [
    "module",
    "function",
    "builtin_function_or_method",
    "instance",
    "_Feature"
   ],
   "window_display": false
  }
 },
 "nbformat": 4,
 "nbformat_minor": 5
}
