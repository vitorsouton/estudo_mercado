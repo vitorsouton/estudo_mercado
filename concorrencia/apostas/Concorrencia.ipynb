{
 "cells": [
  {
   "cell_type": "markdown",
   "id": "92bdb5da",
   "metadata": {},
   "source": [
    "# Prep"
   ]
  },
  {
   "cell_type": "code",
   "execution_count": 1,
   "id": "c29b5450",
   "metadata": {},
   "outputs": [],
   "source": [
    "import numpy as np\n",
    "import pandas as pd\n",
    "\n",
    "from utils.utils import get_info"
   ]
  },
  {
   "cell_type": "code",
   "execution_count": 2,
   "id": "568164b1",
   "metadata": {},
   "outputs": [],
   "source": [
    "df = pd.read_csv('../../fase2/apostas/data/empresas_br.csv', index_col=0)"
   ]
  },
  {
   "cell_type": "code",
   "execution_count": 3,
   "id": "922650da",
   "metadata": {},
   "outputs": [],
   "source": [
    "df = df.sort_values(by='brazilian_visitors', ascending=False).reset_index(drop=True)"
   ]
  },
  {
   "cell_type": "code",
   "execution_count": 6,
   "id": "07700933",
   "metadata": {},
   "outputs": [],
   "source": [
    "def post_processadora(df, n_loc, processadora, pix=0, boleto=0, detalhes=0):\n",
    "    df.loc[n_loc, 'processadoras'] = processadora\n",
    "    df.loc[n_loc, 'pix'] = pix\n",
    "    df.loc[n_loc, 'boleto'] = boleto\n",
    "    df.loc[n_loc, 'detalhes'] = detalhes"
   ]
  },
  {
   "cell_type": "code",
   "execution_count": 62,
   "id": "83ddfc47",
   "metadata": {},
   "outputs": [],
   "source": [
    "n = 14"
   ]
  },
  {
   "cell_type": "code",
   "execution_count": 65,
   "id": "abd5b39d",
   "metadata": {
    "scrolled": false
   },
   "outputs": [
    {
     "data": {
      "text/html": [
       "<div>\n",
       "<style scoped>\n",
       "    .dataframe tbody tr th:only-of-type {\n",
       "        vertical-align: middle;\n",
       "    }\n",
       "\n",
       "    .dataframe tbody tr th {\n",
       "        vertical-align: top;\n",
       "    }\n",
       "\n",
       "    .dataframe thead th {\n",
       "        text-align: right;\n",
       "    }\n",
       "</style>\n",
       "<table border=\"1\" class=\"dataframe\">\n",
       "  <thead>\n",
       "    <tr style=\"text-align: right;\">\n",
       "      <th></th>\n",
       "      <th>company_name</th>\n",
       "      <th>brazilian_visitors</th>\n",
       "      <th>hq_country</th>\n",
       "      <th>bounce_rate</th>\n",
       "      <th>visit_duration</th>\n",
       "      <th>male</th>\n",
       "      <th>female</th>\n",
       "      <th>18-24</th>\n",
       "      <th>25-34</th>\n",
       "      <th>35-44</th>\n",
       "      <th>45-54</th>\n",
       "      <th>55-64</th>\n",
       "      <th>65+</th>\n",
       "      <th>processadoras</th>\n",
       "      <th>pix</th>\n",
       "      <th>boleto</th>\n",
       "      <th>detalhes</th>\n",
       "    </tr>\n",
       "  </thead>\n",
       "  <tbody>\n",
       "    <tr>\n",
       "      <th>16</th>\n",
       "      <td>parimatch.com</td>\n",
       "      <td>695200</td>\n",
       "      <td>Belarus</td>\n",
       "      <td>0.500</td>\n",
       "      <td>10.0</td>\n",
       "      <td>0.624</td>\n",
       "      <td>0.376</td>\n",
       "      <td>0.212</td>\n",
       "      <td>0.333</td>\n",
       "      <td>0.195</td>\n",
       "      <td>0.134</td>\n",
       "      <td>0.084</td>\n",
       "      <td>0.043</td>\n",
       "      <td>Pagsmile, Astropay</td>\n",
       "      <td>1</td>\n",
       "      <td>1</td>\n",
       "      <td>P4F, Picpay e Astropay integrados como carteir...</td>\n",
       "    </tr>\n",
       "    <tr>\n",
       "      <th>17</th>\n",
       "      <td>pokerstars.com</td>\n",
       "      <td>318780</td>\n",
       "      <td>Isle of Man</td>\n",
       "      <td>0.544</td>\n",
       "      <td>2.0</td>\n",
       "      <td>0.682</td>\n",
       "      <td>0.318</td>\n",
       "      <td>0.254</td>\n",
       "      <td>0.331</td>\n",
       "      <td>0.182</td>\n",
       "      <td>0.114</td>\n",
       "      <td>0.075</td>\n",
       "      <td>0.044</td>\n",
       "      <td>Safepag, Dinar</td>\n",
       "      <td>1</td>\n",
       "      <td>1</td>\n",
       "      <td>P4F e Astropay integrados como carteira digita...</td>\n",
       "    </tr>\n",
       "    <tr>\n",
       "      <th>18</th>\n",
       "      <td>bodog.com</td>\n",
       "      <td>269600</td>\n",
       "      <td>Canada</td>\n",
       "      <td>0.547</td>\n",
       "      <td>2.0</td>\n",
       "      <td>0.599</td>\n",
       "      <td>0.401</td>\n",
       "      <td>0.245</td>\n",
       "      <td>0.330</td>\n",
       "      <td>0.190</td>\n",
       "      <td>0.111</td>\n",
       "      <td>0.082</td>\n",
       "      <td>0.043</td>\n",
       "      <td>Deskpag, Dinar</td>\n",
       "      <td>1</td>\n",
       "      <td>1</td>\n",
       "      <td>Deskpag processa pix. Dinar processa boleto. A...</td>\n",
       "    </tr>\n",
       "  </tbody>\n",
       "</table>\n",
       "</div>"
      ],
      "text/plain": [
       "      company_name  brazilian_visitors   hq_country  bounce_rate  \\\n",
       "16   parimatch.com              695200      Belarus        0.500   \n",
       "17  pokerstars.com              318780  Isle of Man        0.544   \n",
       "18       bodog.com              269600       Canada        0.547   \n",
       "\n",
       "    visit_duration   male  female  18-24  25-34  35-44  45-54  55-64    65+  \\\n",
       "16            10.0  0.624   0.376  0.212  0.333  0.195  0.134  0.084  0.043   \n",
       "17             2.0  0.682   0.318  0.254  0.331  0.182  0.114  0.075  0.044   \n",
       "18             2.0  0.599   0.401  0.245  0.330  0.190  0.111  0.082  0.043   \n",
       "\n",
       "         processadoras  pix  boleto  \\\n",
       "16  Pagsmile, Astropay    1       1   \n",
       "17      Safepag, Dinar    1       1   \n",
       "18      Deskpag, Dinar    1       1   \n",
       "\n",
       "                                             detalhes  \n",
       "16  P4F, Picpay e Astropay integrados como carteir...  \n",
       "17  P4F e Astropay integrados como carteira digita...  \n",
       "18  Deskpag processa pix. Dinar processa boleto. A...  "
      ]
     },
     "execution_count": 65,
     "metadata": {},
     "output_type": "execute_result"
    }
   ],
   "source": [
    "n += 1\n",
    "post_processadora(df, 18, 'Deskpag, Dinar', pix=1, boleto=1, detalhes='Deskpag processa pix. Dinar processa boleto. Atropay integrado como carteira digital.')\n",
    "df.to_csv('../../fase2/apostas/data/empresas_br.csv')\n",
    "df[n:n+3]"
   ]
  }
 ],
 "metadata": {
  "kernelspec": {
   "display_name": "Python 3 (ipykernel)",
   "language": "python",
   "name": "python3"
  },
  "language_info": {
   "codemirror_mode": {
    "name": "ipython",
    "version": 3
   },
   "file_extension": ".py",
   "mimetype": "text/x-python",
   "name": "python",
   "nbconvert_exporter": "python",
   "pygments_lexer": "ipython3",
   "version": "3.10.6"
  },
  "toc": {
   "base_numbering": 1,
   "nav_menu": {},
   "number_sections": true,
   "sideBar": true,
   "skip_h1_title": false,
   "title_cell": "Table of Contents",
   "title_sidebar": "Contents",
   "toc_cell": false,
   "toc_position": {},
   "toc_section_display": true,
   "toc_window_display": false
  },
  "varInspector": {
   "cols": {
    "lenName": 16,
    "lenType": 16,
    "lenVar": 40
   },
   "kernels_config": {
    "python": {
     "delete_cmd_postfix": "",
     "delete_cmd_prefix": "del ",
     "library": "var_list.py",
     "varRefreshCmd": "print(var_dic_list())"
    },
    "r": {
     "delete_cmd_postfix": ") ",
     "delete_cmd_prefix": "rm(",
     "library": "var_list.r",
     "varRefreshCmd": "cat(var_dic_list()) "
    }
   },
   "types_to_exclude": [
    "module",
    "function",
    "builtin_function_or_method",
    "instance",
    "_Feature"
   ],
   "window_display": false
  }
 },
 "nbformat": 4,
 "nbformat_minor": 5
}
